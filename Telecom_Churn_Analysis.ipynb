{
 "cells": [
  {
   "cell_type": "markdown",
   "id": "7f2eb179",
   "metadata": {},
   "source": [
    "# Problem Statement\n",
    "\n",
    "### Business Problem Overview\n",
    "\n",
    "To expand business on the basis of revenue-generating clients, telco businesses must both draw in new ones and prevent contract terminations (=churn). When it comes to contract termination, clients may do so for a variety of reasons, including better price offers more enticing packages, negative service interactions, or changes in their circumstances.\n",
    "\n",
    "Customers in the telecom sector have access to a variety of service providers and can actively switch from one operator to another. The telecoms business has an average annual churn rate of 15 to 25 percent in this fiercely competitive market. Customer retention has now surpassed customer acquisition in importance due to the fact that it is 5–10 times more expensive to gain new customers than to keep existing ones.\n",
    "\n",
    "Churn analytics offers useful tools for estimating client churn and defining its fundamental causes of it. The percentage of consumers that cancel a product or service within a specified time frame is the most common way to display the churn indicator (mostly months).\n",
    "\n",
    "\n",
    "### Business Objective\n",
    "\n",
    "In order to minimize the customer churn rate, I will perform exploratory data analysis on customer-level data to identify the key signs of why customers are leaving the business."
   ]
  },
  {
   "cell_type": "markdown",
   "id": "b61f6f1e",
   "metadata": {},
   "source": [
    "## Impot Libraries"
   ]
  },
  {
   "cell_type": "code",
   "execution_count": 1,
   "id": "b70f5121",
   "metadata": {},
   "outputs": [],
   "source": [
    "import pandas as pd \n",
    "import numpy as np\n",
    "import matplotlib.pyplot as plt \n",
    "import seaborn as sns\n",
    "\n",
    "import warnings\n",
    "warnings.filterwarnings('ignore')"
   ]
  },
  {
   "cell_type": "markdown",
   "id": "02748089",
   "metadata": {},
   "source": [
    "## Importing Dataset"
   ]
  },
  {
   "cell_type": "code",
   "execution_count": 2,
   "id": "7ed02a82",
   "metadata": {},
   "outputs": [],
   "source": [
    " data = pd.read_csv('Telecom_Churn.csv')"
   ]
  },
  {
   "cell_type": "code",
   "execution_count": 3,
   "id": "b0690692",
   "metadata": {},
   "outputs": [
    {
     "data": {
      "text/html": [
       "<div>\n",
       "<style scoped>\n",
       "    .dataframe tbody tr th:only-of-type {\n",
       "        vertical-align: middle;\n",
       "    }\n",
       "\n",
       "    .dataframe tbody tr th {\n",
       "        vertical-align: top;\n",
       "    }\n",
       "\n",
       "    .dataframe thead th {\n",
       "        text-align: right;\n",
       "    }\n",
       "</style>\n",
       "<table border=\"1\" class=\"dataframe\">\n",
       "  <thead>\n",
       "    <tr style=\"text-align: right;\">\n",
       "      <th></th>\n",
       "      <th>State</th>\n",
       "      <th>Account length</th>\n",
       "      <th>Area code</th>\n",
       "      <th>International plan</th>\n",
       "      <th>Voice mail plan</th>\n",
       "      <th>Number vmail messages</th>\n",
       "      <th>Total day minutes</th>\n",
       "      <th>Total day calls</th>\n",
       "      <th>Total day charge</th>\n",
       "      <th>Total eve minutes</th>\n",
       "      <th>Total eve calls</th>\n",
       "      <th>Total eve charge</th>\n",
       "      <th>Total night minutes</th>\n",
       "      <th>Total night calls</th>\n",
       "      <th>Total night charge</th>\n",
       "      <th>Total intl minutes</th>\n",
       "      <th>Total intl calls</th>\n",
       "      <th>Total intl charge</th>\n",
       "      <th>Customer service calls</th>\n",
       "      <th>Churn</th>\n",
       "    </tr>\n",
       "  </thead>\n",
       "  <tbody>\n",
       "    <tr>\n",
       "      <th>0</th>\n",
       "      <td>KS</td>\n",
       "      <td>128</td>\n",
       "      <td>415</td>\n",
       "      <td>No</td>\n",
       "      <td>Yes</td>\n",
       "      <td>25</td>\n",
       "      <td>265.1</td>\n",
       "      <td>110</td>\n",
       "      <td>45.07</td>\n",
       "      <td>197.4</td>\n",
       "      <td>99</td>\n",
       "      <td>16.78</td>\n",
       "      <td>244.7</td>\n",
       "      <td>91</td>\n",
       "      <td>11.01</td>\n",
       "      <td>10.0</td>\n",
       "      <td>3</td>\n",
       "      <td>2.70</td>\n",
       "      <td>1</td>\n",
       "      <td>False</td>\n",
       "    </tr>\n",
       "    <tr>\n",
       "      <th>1</th>\n",
       "      <td>OH</td>\n",
       "      <td>107</td>\n",
       "      <td>415</td>\n",
       "      <td>No</td>\n",
       "      <td>Yes</td>\n",
       "      <td>26</td>\n",
       "      <td>161.6</td>\n",
       "      <td>123</td>\n",
       "      <td>27.47</td>\n",
       "      <td>195.5</td>\n",
       "      <td>103</td>\n",
       "      <td>16.62</td>\n",
       "      <td>254.4</td>\n",
       "      <td>103</td>\n",
       "      <td>11.45</td>\n",
       "      <td>13.7</td>\n",
       "      <td>3</td>\n",
       "      <td>3.70</td>\n",
       "      <td>1</td>\n",
       "      <td>False</td>\n",
       "    </tr>\n",
       "    <tr>\n",
       "      <th>2</th>\n",
       "      <td>NJ</td>\n",
       "      <td>137</td>\n",
       "      <td>415</td>\n",
       "      <td>No</td>\n",
       "      <td>No</td>\n",
       "      <td>0</td>\n",
       "      <td>243.4</td>\n",
       "      <td>114</td>\n",
       "      <td>41.38</td>\n",
       "      <td>121.2</td>\n",
       "      <td>110</td>\n",
       "      <td>10.30</td>\n",
       "      <td>162.6</td>\n",
       "      <td>104</td>\n",
       "      <td>7.32</td>\n",
       "      <td>12.2</td>\n",
       "      <td>5</td>\n",
       "      <td>3.29</td>\n",
       "      <td>0</td>\n",
       "      <td>False</td>\n",
       "    </tr>\n",
       "    <tr>\n",
       "      <th>3</th>\n",
       "      <td>OH</td>\n",
       "      <td>84</td>\n",
       "      <td>408</td>\n",
       "      <td>Yes</td>\n",
       "      <td>No</td>\n",
       "      <td>0</td>\n",
       "      <td>299.4</td>\n",
       "      <td>71</td>\n",
       "      <td>50.90</td>\n",
       "      <td>61.9</td>\n",
       "      <td>88</td>\n",
       "      <td>5.26</td>\n",
       "      <td>196.9</td>\n",
       "      <td>89</td>\n",
       "      <td>8.86</td>\n",
       "      <td>6.6</td>\n",
       "      <td>7</td>\n",
       "      <td>1.78</td>\n",
       "      <td>2</td>\n",
       "      <td>False</td>\n",
       "    </tr>\n",
       "    <tr>\n",
       "      <th>4</th>\n",
       "      <td>OK</td>\n",
       "      <td>75</td>\n",
       "      <td>415</td>\n",
       "      <td>Yes</td>\n",
       "      <td>No</td>\n",
       "      <td>0</td>\n",
       "      <td>166.7</td>\n",
       "      <td>113</td>\n",
       "      <td>28.34</td>\n",
       "      <td>148.3</td>\n",
       "      <td>122</td>\n",
       "      <td>12.61</td>\n",
       "      <td>186.9</td>\n",
       "      <td>121</td>\n",
       "      <td>8.41</td>\n",
       "      <td>10.1</td>\n",
       "      <td>3</td>\n",
       "      <td>2.73</td>\n",
       "      <td>3</td>\n",
       "      <td>False</td>\n",
       "    </tr>\n",
       "  </tbody>\n",
       "</table>\n",
       "</div>"
      ],
      "text/plain": [
       "  State  Account length  Area code International plan Voice mail plan  \\\n",
       "0    KS             128        415                 No             Yes   \n",
       "1    OH             107        415                 No             Yes   \n",
       "2    NJ             137        415                 No              No   \n",
       "3    OH              84        408                Yes              No   \n",
       "4    OK              75        415                Yes              No   \n",
       "\n",
       "   Number vmail messages  Total day minutes  Total day calls  \\\n",
       "0                     25              265.1              110   \n",
       "1                     26              161.6              123   \n",
       "2                      0              243.4              114   \n",
       "3                      0              299.4               71   \n",
       "4                      0              166.7              113   \n",
       "\n",
       "   Total day charge  Total eve minutes  Total eve calls  Total eve charge  \\\n",
       "0             45.07              197.4               99             16.78   \n",
       "1             27.47              195.5              103             16.62   \n",
       "2             41.38              121.2              110             10.30   \n",
       "3             50.90               61.9               88              5.26   \n",
       "4             28.34              148.3              122             12.61   \n",
       "\n",
       "   Total night minutes  Total night calls  Total night charge  \\\n",
       "0                244.7                 91               11.01   \n",
       "1                254.4                103               11.45   \n",
       "2                162.6                104                7.32   \n",
       "3                196.9                 89                8.86   \n",
       "4                186.9                121                8.41   \n",
       "\n",
       "   Total intl minutes  Total intl calls  Total intl charge  \\\n",
       "0                10.0                 3               2.70   \n",
       "1                13.7                 3               3.70   \n",
       "2                12.2                 5               3.29   \n",
       "3                 6.6                 7               1.78   \n",
       "4                10.1                 3               2.73   \n",
       "\n",
       "   Customer service calls  Churn  \n",
       "0                       1  False  \n",
       "1                       1  False  \n",
       "2                       0  False  \n",
       "3                       2  False  \n",
       "4                       3  False  "
      ]
     },
     "execution_count": 3,
     "metadata": {},
     "output_type": "execute_result"
    }
   ],
   "source": [
    "# Viewing data's first 5 row\n",
    "\n",
    "data.head()"
   ]
  },
  {
   "cell_type": "code",
   "execution_count": 4,
   "id": "e80daf16",
   "metadata": {},
   "outputs": [
    {
     "data": {
      "text/plain": [
       "(3333, 20)"
      ]
     },
     "execution_count": 4,
     "metadata": {},
     "output_type": "execute_result"
    }
   ],
   "source": [
    "# Chicking shape of data\n",
    "\n",
    "data.shape"
   ]
  },
  {
   "cell_type": "markdown",
   "id": "a831f489",
   "metadata": {},
   "source": [
    "#### Data has 3333 rows and 20 columns."
   ]
  },
  {
   "cell_type": "code",
   "execution_count": 5,
   "id": "8a2ece51",
   "metadata": {},
   "outputs": [
    {
     "data": {
      "text/plain": [
       "State                      object\n",
       "Account length              int64\n",
       "Area code                   int64\n",
       "International plan         object\n",
       "Voice mail plan            object\n",
       "Number vmail messages       int64\n",
       "Total day minutes         float64\n",
       "Total day calls             int64\n",
       "Total day charge          float64\n",
       "Total eve minutes         float64\n",
       "Total eve calls             int64\n",
       "Total eve charge          float64\n",
       "Total night minutes       float64\n",
       "Total night calls           int64\n",
       "Total night charge        float64\n",
       "Total intl minutes        float64\n",
       "Total intl calls            int64\n",
       "Total intl charge         float64\n",
       "Customer service calls      int64\n",
       "Churn                        bool\n",
       "dtype: object"
      ]
     },
     "execution_count": 5,
     "metadata": {},
     "output_type": "execute_result"
    }
   ],
   "source": [
    "# Checking data types\n",
    "\n",
    "data.dtypes"
   ]
  },
  {
   "cell_type": "markdown",
   "id": "60fb502e",
   "metadata": {},
   "source": [
    "## Ckechking null or missing values"
   ]
  },
  {
   "cell_type": "code",
   "execution_count": 6,
   "id": "30bde50f",
   "metadata": {},
   "outputs": [
    {
     "data": {
      "text/plain": [
       "State                     0\n",
       "Account length            0\n",
       "Area code                 0\n",
       "International plan        0\n",
       "Voice mail plan           0\n",
       "Number vmail messages     0\n",
       "Total day minutes         0\n",
       "Total day calls           0\n",
       "Total day charge          0\n",
       "Total eve minutes         0\n",
       "Total eve calls           0\n",
       "Total eve charge          0\n",
       "Total night minutes       0\n",
       "Total night calls         0\n",
       "Total night charge        0\n",
       "Total intl minutes        0\n",
       "Total intl calls          0\n",
       "Total intl charge         0\n",
       "Customer service calls    0\n",
       "Churn                     0\n",
       "dtype: int64"
      ]
     },
     "execution_count": 6,
     "metadata": {},
     "output_type": "execute_result"
    }
   ],
   "source": [
    "data.isnull().sum()"
   ]
  },
  {
   "cell_type": "markdown",
   "id": "dff74600",
   "metadata": {},
   "source": [
    "#### In our data there no null or missing values"
   ]
  },
  {
   "cell_type": "markdown",
   "id": "7098c5df",
   "metadata": {},
   "source": [
    "## Checking unique values in each feature"
   ]
  },
  {
   "cell_type": "code",
   "execution_count": 7,
   "id": "d00dda50",
   "metadata": {},
   "outputs": [
    {
     "data": {
      "text/plain": [
       "State                       51\n",
       "Account length             212\n",
       "Area code                    3\n",
       "International plan           2\n",
       "Voice mail plan              2\n",
       "Number vmail messages       46\n",
       "Total day minutes         1667\n",
       "Total day calls            119\n",
       "Total day charge          1667\n",
       "Total eve minutes         1611\n",
       "Total eve calls            123\n",
       "Total eve charge          1440\n",
       "Total night minutes       1591\n",
       "Total night calls          120\n",
       "Total night charge         933\n",
       "Total intl minutes         162\n",
       "Total intl calls            21\n",
       "Total intl charge          162\n",
       "Customer service calls      10\n",
       "Churn                        2\n",
       "dtype: int64"
      ]
     },
     "execution_count": 7,
     "metadata": {},
     "output_type": "execute_result"
    }
   ],
   "source": [
    "data.nunique()"
   ]
  },
  {
   "cell_type": "markdown",
   "id": "d50a9f44",
   "metadata": {},
   "source": [
    "## Data Describe"
   ]
  },
  {
   "cell_type": "code",
   "execution_count": 8,
   "id": "e626c3de",
   "metadata": {
    "scrolled": true
   },
   "outputs": [
    {
     "data": {
      "text/html": [
       "<div>\n",
       "<style scoped>\n",
       "    .dataframe tbody tr th:only-of-type {\n",
       "        vertical-align: middle;\n",
       "    }\n",
       "\n",
       "    .dataframe tbody tr th {\n",
       "        vertical-align: top;\n",
       "    }\n",
       "\n",
       "    .dataframe thead th {\n",
       "        text-align: right;\n",
       "    }\n",
       "</style>\n",
       "<table border=\"1\" class=\"dataframe\">\n",
       "  <thead>\n",
       "    <tr style=\"text-align: right;\">\n",
       "      <th></th>\n",
       "      <th>Account length</th>\n",
       "      <th>Area code</th>\n",
       "      <th>Number vmail messages</th>\n",
       "      <th>Total day minutes</th>\n",
       "      <th>Total day calls</th>\n",
       "      <th>Total day charge</th>\n",
       "      <th>Total eve minutes</th>\n",
       "      <th>Total eve calls</th>\n",
       "      <th>Total eve charge</th>\n",
       "      <th>Total night minutes</th>\n",
       "      <th>Total night calls</th>\n",
       "      <th>Total night charge</th>\n",
       "      <th>Total intl minutes</th>\n",
       "      <th>Total intl calls</th>\n",
       "      <th>Total intl charge</th>\n",
       "      <th>Customer service calls</th>\n",
       "    </tr>\n",
       "  </thead>\n",
       "  <tbody>\n",
       "    <tr>\n",
       "      <th>count</th>\n",
       "      <td>3333.000000</td>\n",
       "      <td>3333.000000</td>\n",
       "      <td>3333.000000</td>\n",
       "      <td>3333.000000</td>\n",
       "      <td>3333.000000</td>\n",
       "      <td>3333.000000</td>\n",
       "      <td>3333.000000</td>\n",
       "      <td>3333.000000</td>\n",
       "      <td>3333.000000</td>\n",
       "      <td>3333.000000</td>\n",
       "      <td>3333.000000</td>\n",
       "      <td>3333.000000</td>\n",
       "      <td>3333.000000</td>\n",
       "      <td>3333.000000</td>\n",
       "      <td>3333.000000</td>\n",
       "      <td>3333.000000</td>\n",
       "    </tr>\n",
       "    <tr>\n",
       "      <th>mean</th>\n",
       "      <td>101.064806</td>\n",
       "      <td>437.182418</td>\n",
       "      <td>8.099010</td>\n",
       "      <td>179.775098</td>\n",
       "      <td>100.435644</td>\n",
       "      <td>30.562307</td>\n",
       "      <td>200.980348</td>\n",
       "      <td>100.114311</td>\n",
       "      <td>17.083540</td>\n",
       "      <td>200.872037</td>\n",
       "      <td>100.107711</td>\n",
       "      <td>9.039325</td>\n",
       "      <td>10.237294</td>\n",
       "      <td>4.479448</td>\n",
       "      <td>2.764581</td>\n",
       "      <td>1.562856</td>\n",
       "    </tr>\n",
       "    <tr>\n",
       "      <th>std</th>\n",
       "      <td>39.822106</td>\n",
       "      <td>42.371290</td>\n",
       "      <td>13.688365</td>\n",
       "      <td>54.467389</td>\n",
       "      <td>20.069084</td>\n",
       "      <td>9.259435</td>\n",
       "      <td>50.713844</td>\n",
       "      <td>19.922625</td>\n",
       "      <td>4.310668</td>\n",
       "      <td>50.573847</td>\n",
       "      <td>19.568609</td>\n",
       "      <td>2.275873</td>\n",
       "      <td>2.791840</td>\n",
       "      <td>2.461214</td>\n",
       "      <td>0.753773</td>\n",
       "      <td>1.315491</td>\n",
       "    </tr>\n",
       "    <tr>\n",
       "      <th>min</th>\n",
       "      <td>1.000000</td>\n",
       "      <td>408.000000</td>\n",
       "      <td>0.000000</td>\n",
       "      <td>0.000000</td>\n",
       "      <td>0.000000</td>\n",
       "      <td>0.000000</td>\n",
       "      <td>0.000000</td>\n",
       "      <td>0.000000</td>\n",
       "      <td>0.000000</td>\n",
       "      <td>23.200000</td>\n",
       "      <td>33.000000</td>\n",
       "      <td>1.040000</td>\n",
       "      <td>0.000000</td>\n",
       "      <td>0.000000</td>\n",
       "      <td>0.000000</td>\n",
       "      <td>0.000000</td>\n",
       "    </tr>\n",
       "    <tr>\n",
       "      <th>25%</th>\n",
       "      <td>74.000000</td>\n",
       "      <td>408.000000</td>\n",
       "      <td>0.000000</td>\n",
       "      <td>143.700000</td>\n",
       "      <td>87.000000</td>\n",
       "      <td>24.430000</td>\n",
       "      <td>166.600000</td>\n",
       "      <td>87.000000</td>\n",
       "      <td>14.160000</td>\n",
       "      <td>167.000000</td>\n",
       "      <td>87.000000</td>\n",
       "      <td>7.520000</td>\n",
       "      <td>8.500000</td>\n",
       "      <td>3.000000</td>\n",
       "      <td>2.300000</td>\n",
       "      <td>1.000000</td>\n",
       "    </tr>\n",
       "    <tr>\n",
       "      <th>50%</th>\n",
       "      <td>101.000000</td>\n",
       "      <td>415.000000</td>\n",
       "      <td>0.000000</td>\n",
       "      <td>179.400000</td>\n",
       "      <td>101.000000</td>\n",
       "      <td>30.500000</td>\n",
       "      <td>201.400000</td>\n",
       "      <td>100.000000</td>\n",
       "      <td>17.120000</td>\n",
       "      <td>201.200000</td>\n",
       "      <td>100.000000</td>\n",
       "      <td>9.050000</td>\n",
       "      <td>10.300000</td>\n",
       "      <td>4.000000</td>\n",
       "      <td>2.780000</td>\n",
       "      <td>1.000000</td>\n",
       "    </tr>\n",
       "    <tr>\n",
       "      <th>75%</th>\n",
       "      <td>127.000000</td>\n",
       "      <td>510.000000</td>\n",
       "      <td>20.000000</td>\n",
       "      <td>216.400000</td>\n",
       "      <td>114.000000</td>\n",
       "      <td>36.790000</td>\n",
       "      <td>235.300000</td>\n",
       "      <td>114.000000</td>\n",
       "      <td>20.000000</td>\n",
       "      <td>235.300000</td>\n",
       "      <td>113.000000</td>\n",
       "      <td>10.590000</td>\n",
       "      <td>12.100000</td>\n",
       "      <td>6.000000</td>\n",
       "      <td>3.270000</td>\n",
       "      <td>2.000000</td>\n",
       "    </tr>\n",
       "    <tr>\n",
       "      <th>max</th>\n",
       "      <td>243.000000</td>\n",
       "      <td>510.000000</td>\n",
       "      <td>51.000000</td>\n",
       "      <td>350.800000</td>\n",
       "      <td>165.000000</td>\n",
       "      <td>59.640000</td>\n",
       "      <td>363.700000</td>\n",
       "      <td>170.000000</td>\n",
       "      <td>30.910000</td>\n",
       "      <td>395.000000</td>\n",
       "      <td>175.000000</td>\n",
       "      <td>17.770000</td>\n",
       "      <td>20.000000</td>\n",
       "      <td>20.000000</td>\n",
       "      <td>5.400000</td>\n",
       "      <td>9.000000</td>\n",
       "    </tr>\n",
       "  </tbody>\n",
       "</table>\n",
       "</div>"
      ],
      "text/plain": [
       "       Account length    Area code  Number vmail messages  Total day minutes  \\\n",
       "count     3333.000000  3333.000000            3333.000000        3333.000000   \n",
       "mean       101.064806   437.182418               8.099010         179.775098   \n",
       "std         39.822106    42.371290              13.688365          54.467389   \n",
       "min          1.000000   408.000000               0.000000           0.000000   \n",
       "25%         74.000000   408.000000               0.000000         143.700000   \n",
       "50%        101.000000   415.000000               0.000000         179.400000   \n",
       "75%        127.000000   510.000000              20.000000         216.400000   \n",
       "max        243.000000   510.000000              51.000000         350.800000   \n",
       "\n",
       "       Total day calls  Total day charge  Total eve minutes  Total eve calls  \\\n",
       "count      3333.000000       3333.000000        3333.000000      3333.000000   \n",
       "mean        100.435644         30.562307         200.980348       100.114311   \n",
       "std          20.069084          9.259435          50.713844        19.922625   \n",
       "min           0.000000          0.000000           0.000000         0.000000   \n",
       "25%          87.000000         24.430000         166.600000        87.000000   \n",
       "50%         101.000000         30.500000         201.400000       100.000000   \n",
       "75%         114.000000         36.790000         235.300000       114.000000   \n",
       "max         165.000000         59.640000         363.700000       170.000000   \n",
       "\n",
       "       Total eve charge  Total night minutes  Total night calls  \\\n",
       "count       3333.000000          3333.000000        3333.000000   \n",
       "mean          17.083540           200.872037         100.107711   \n",
       "std            4.310668            50.573847          19.568609   \n",
       "min            0.000000            23.200000          33.000000   \n",
       "25%           14.160000           167.000000          87.000000   \n",
       "50%           17.120000           201.200000         100.000000   \n",
       "75%           20.000000           235.300000         113.000000   \n",
       "max           30.910000           395.000000         175.000000   \n",
       "\n",
       "       Total night charge  Total intl minutes  Total intl calls  \\\n",
       "count         3333.000000         3333.000000       3333.000000   \n",
       "mean             9.039325           10.237294          4.479448   \n",
       "std              2.275873            2.791840          2.461214   \n",
       "min              1.040000            0.000000          0.000000   \n",
       "25%              7.520000            8.500000          3.000000   \n",
       "50%              9.050000           10.300000          4.000000   \n",
       "75%             10.590000           12.100000          6.000000   \n",
       "max             17.770000           20.000000         20.000000   \n",
       "\n",
       "       Total intl charge  Customer service calls  \n",
       "count        3333.000000             3333.000000  \n",
       "mean            2.764581                1.562856  \n",
       "std             0.753773                1.315491  \n",
       "min             0.000000                0.000000  \n",
       "25%             2.300000                1.000000  \n",
       "50%             2.780000                1.000000  \n",
       "75%             3.270000                2.000000  \n",
       "max             5.400000                9.000000  "
      ]
     },
     "execution_count": 8,
     "metadata": {},
     "output_type": "execute_result"
    }
   ],
   "source": [
    "data.describe() "
   ]
  },
  {
   "cell_type": "code",
   "execution_count": 9,
   "id": "1ff4be7c",
   "metadata": {},
   "outputs": [],
   "source": [
    "# Creating copy of the current data and assigning to df\n",
    "df=data.copy()"
   ]
  },
  {
   "cell_type": "code",
   "execution_count": 10,
   "id": "3c65f4fd",
   "metadata": {},
   "outputs": [],
   "source": [
    "# Creating churn dataset\n",
    "df_churn=df[(df['Churn']==True)]"
   ]
  },
  {
   "cell_type": "markdown",
   "id": "a07d13cf",
   "metadata": {},
   "source": [
    "## Exploring Target Labels - Univariate analysis"
   ]
  },
  {
   "cell_type": "code",
   "execution_count": 11,
   "id": "a32c5554",
   "metadata": {
    "scrolled": true
   },
   "outputs": [
    {
     "data": {
      "text/plain": [
       "False    2850\n",
       "True      483\n",
       "Name: Churn, dtype: int64"
      ]
     },
     "execution_count": 11,
     "metadata": {},
     "output_type": "execute_result"
    }
   ],
   "source": [
    "df['Churn'].value_counts()"
   ]
  },
  {
   "cell_type": "code",
   "execution_count": 12,
   "id": "5db5b66d",
   "metadata": {},
   "outputs": [
    {
     "data": {
      "text/plain": [
       "Text(0.5, 1.0, 'Pie Chart For Churn')"
      ]
     },
     "execution_count": 12,
     "metadata": {},
     "output_type": "execute_result"
    },
    {
     "data": {
      "image/png": "[encoded data removed]",
      "text/plain": [
       "<Figure size 500x500 with 1 Axes>"
      ]
     },
     "metadata": {},
     "output_type": "display_data"
    }
   ],
   "source": [
    "df['Churn'].value_counts().plot.pie(explode=[0.05,0.05], autopct='%1.1f%%',startangle=90, figsize=(5,5))\n",
    "plt.title('Pie Chart For Churn')"
   ]
  },
  {
   "cell_type": "markdown",
   "id": "5cdbd963",
   "metadata": {},
   "source": [
    "#### Our data is imblance\n",
    "\n",
    "#### Any data with unequal class distribution is technically imblance.\n",
    "\n",
    "#### In our data 85.5% data not getting churn and remaining 14.5% churn. "
   ]
  },
  {
   "cell_type": "markdown",
   "id": "b66f7cfa",
   "metadata": {},
   "source": [
    "## Exploring State feature - Bivariate analysis"
   ]
  },
  {
   "cell_type": "code",
   "execution_count": 13,
   "id": "ba44aff0",
   "metadata": {},
   "outputs": [
    {
     "data": {
      "text/plain": [
       "array(['KS', 'OH', 'NJ', 'OK', 'AL', 'MA', 'MO', 'LA', 'WV', 'IN', 'RI',\n",
       "       'IA', 'MT', 'NY', 'ID', 'VT', 'VA', 'TX', 'FL', 'CO', 'AZ', 'SC',\n",
       "       'NE', 'WY', 'HI', 'IL', 'NH', 'GA', 'AK', 'MD', 'AR', 'WI', 'OR',\n",
       "       'MI', 'DE', 'UT', 'CA', 'MN', 'SD', 'NC', 'WA', 'NM', 'NV', 'DC',\n",
       "       'KY', 'ME', 'MS', 'TN', 'PA', 'CT', 'ND'], dtype=object)"
      ]
     },
     "execution_count": 13,
     "metadata": {},
     "output_type": "execute_result"
    }
   ],
   "source": [
    "# Unique states\n",
    "\n",
    "df['State'].unique()"
   ]
  },
  {
   "cell_type": "code",
   "execution_count": 14,
   "id": "3ffe3bec",
   "metadata": {},
   "outputs": [
    {
     "data": {
      "text/plain": [
       "51"
      ]
     },
     "execution_count": 14,
     "metadata": {},
     "output_type": "execute_result"
    }
   ],
   "source": [
    "# Number of Unique states\n",
    "\n",
    "df['State'].nunique()"
   ]
  },
  {
   "cell_type": "code",
   "execution_count": 15,
   "id": "9a277ff6",
   "metadata": {},
   "outputs": [
    {
     "data": {
      "text/html": [
       "<div>\n",
       "<style scoped>\n",
       "    .dataframe tbody tr th:only-of-type {\n",
       "        vertical-align: middle;\n",
       "    }\n",
       "\n",
       "    .dataframe tbody tr th {\n",
       "        vertical-align: top;\n",
       "    }\n",
       "\n",
       "    .dataframe thead th {\n",
       "        text-align: right;\n",
       "    }\n",
       "</style>\n",
       "<table border=\"1\" class=\"dataframe\">\n",
       "  <thead>\n",
       "    <tr style=\"text-align: right;\">\n",
       "      <th></th>\n",
       "      <th>states_name</th>\n",
       "      <th>churn_true</th>\n",
       "      <th>chrun_false</th>\n",
       "      <th>churn_true %</th>\n",
       "      <th>churn_false %</th>\n",
       "    </tr>\n",
       "  </thead>\n",
       "  <tbody>\n",
       "    <tr>\n",
       "      <th>0</th>\n",
       "      <td>KS</td>\n",
       "      <td>13</td>\n",
       "      <td>57</td>\n",
       "      <td>18.57</td>\n",
       "      <td>81.43</td>\n",
       "    </tr>\n",
       "    <tr>\n",
       "      <th>1</th>\n",
       "      <td>OH</td>\n",
       "      <td>10</td>\n",
       "      <td>68</td>\n",
       "      <td>12.82</td>\n",
       "      <td>87.18</td>\n",
       "    </tr>\n",
       "    <tr>\n",
       "      <th>2</th>\n",
       "      <td>NJ</td>\n",
       "      <td>18</td>\n",
       "      <td>50</td>\n",
       "      <td>26.47</td>\n",
       "      <td>73.53</td>\n",
       "    </tr>\n",
       "    <tr>\n",
       "      <th>3</th>\n",
       "      <td>OK</td>\n",
       "      <td>9</td>\n",
       "      <td>52</td>\n",
       "      <td>14.75</td>\n",
       "      <td>85.25</td>\n",
       "    </tr>\n",
       "    <tr>\n",
       "      <th>4</th>\n",
       "      <td>AL</td>\n",
       "      <td>8</td>\n",
       "      <td>72</td>\n",
       "      <td>10.00</td>\n",
       "      <td>90.00</td>\n",
       "    </tr>\n",
       "    <tr>\n",
       "      <th>5</th>\n",
       "      <td>MA</td>\n",
       "      <td>11</td>\n",
       "      <td>54</td>\n",
       "      <td>16.92</td>\n",
       "      <td>83.08</td>\n",
       "    </tr>\n",
       "    <tr>\n",
       "      <th>6</th>\n",
       "      <td>MO</td>\n",
       "      <td>7</td>\n",
       "      <td>56</td>\n",
       "      <td>11.11</td>\n",
       "      <td>88.89</td>\n",
       "    </tr>\n",
       "    <tr>\n",
       "      <th>7</th>\n",
       "      <td>LA</td>\n",
       "      <td>4</td>\n",
       "      <td>47</td>\n",
       "      <td>7.84</td>\n",
       "      <td>92.16</td>\n",
       "    </tr>\n",
       "    <tr>\n",
       "      <th>8</th>\n",
       "      <td>WV</td>\n",
       "      <td>10</td>\n",
       "      <td>96</td>\n",
       "      <td>9.43</td>\n",
       "      <td>90.57</td>\n",
       "    </tr>\n",
       "    <tr>\n",
       "      <th>9</th>\n",
       "      <td>IN</td>\n",
       "      <td>9</td>\n",
       "      <td>62</td>\n",
       "      <td>12.68</td>\n",
       "      <td>87.32</td>\n",
       "    </tr>\n",
       "    <tr>\n",
       "      <th>10</th>\n",
       "      <td>RI</td>\n",
       "      <td>6</td>\n",
       "      <td>59</td>\n",
       "      <td>9.23</td>\n",
       "      <td>90.77</td>\n",
       "    </tr>\n",
       "    <tr>\n",
       "      <th>11</th>\n",
       "      <td>IA</td>\n",
       "      <td>3</td>\n",
       "      <td>41</td>\n",
       "      <td>6.82</td>\n",
       "      <td>93.18</td>\n",
       "    </tr>\n",
       "    <tr>\n",
       "      <th>12</th>\n",
       "      <td>MT</td>\n",
       "      <td>14</td>\n",
       "      <td>54</td>\n",
       "      <td>20.59</td>\n",
       "      <td>79.41</td>\n",
       "    </tr>\n",
       "    <tr>\n",
       "      <th>13</th>\n",
       "      <td>NY</td>\n",
       "      <td>15</td>\n",
       "      <td>68</td>\n",
       "      <td>18.07</td>\n",
       "      <td>81.93</td>\n",
       "    </tr>\n",
       "    <tr>\n",
       "      <th>14</th>\n",
       "      <td>ID</td>\n",
       "      <td>9</td>\n",
       "      <td>64</td>\n",
       "      <td>12.33</td>\n",
       "      <td>87.67</td>\n",
       "    </tr>\n",
       "    <tr>\n",
       "      <th>15</th>\n",
       "      <td>VT</td>\n",
       "      <td>8</td>\n",
       "      <td>65</td>\n",
       "      <td>10.96</td>\n",
       "      <td>89.04</td>\n",
       "    </tr>\n",
       "    <tr>\n",
       "      <th>16</th>\n",
       "      <td>VA</td>\n",
       "      <td>5</td>\n",
       "      <td>72</td>\n",
       "      <td>6.49</td>\n",
       "      <td>93.51</td>\n",
       "    </tr>\n",
       "    <tr>\n",
       "      <th>17</th>\n",
       "      <td>TX</td>\n",
       "      <td>18</td>\n",
       "      <td>54</td>\n",
       "      <td>25.00</td>\n",
       "      <td>75.00</td>\n",
       "    </tr>\n",
       "    <tr>\n",
       "      <th>18</th>\n",
       "      <td>FL</td>\n",
       "      <td>8</td>\n",
       "      <td>55</td>\n",
       "      <td>12.70</td>\n",
       "      <td>87.30</td>\n",
       "    </tr>\n",
       "    <tr>\n",
       "      <th>19</th>\n",
       "      <td>CO</td>\n",
       "      <td>9</td>\n",
       "      <td>57</td>\n",
       "      <td>13.64</td>\n",
       "      <td>86.36</td>\n",
       "    </tr>\n",
       "    <tr>\n",
       "      <th>20</th>\n",
       "      <td>AZ</td>\n",
       "      <td>4</td>\n",
       "      <td>60</td>\n",
       "      <td>6.25</td>\n",
       "      <td>93.75</td>\n",
       "    </tr>\n",
       "    <tr>\n",
       "      <th>21</th>\n",
       "      <td>SC</td>\n",
       "      <td>14</td>\n",
       "      <td>46</td>\n",
       "      <td>23.33</td>\n",
       "      <td>76.67</td>\n",
       "    </tr>\n",
       "    <tr>\n",
       "      <th>22</th>\n",
       "      <td>NE</td>\n",
       "      <td>5</td>\n",
       "      <td>56</td>\n",
       "      <td>8.20</td>\n",
       "      <td>91.80</td>\n",
       "    </tr>\n",
       "    <tr>\n",
       "      <th>23</th>\n",
       "      <td>WY</td>\n",
       "      <td>9</td>\n",
       "      <td>68</td>\n",
       "      <td>11.69</td>\n",
       "      <td>88.31</td>\n",
       "    </tr>\n",
       "    <tr>\n",
       "      <th>24</th>\n",
       "      <td>HI</td>\n",
       "      <td>3</td>\n",
       "      <td>50</td>\n",
       "      <td>5.66</td>\n",
       "      <td>94.34</td>\n",
       "    </tr>\n",
       "    <tr>\n",
       "      <th>25</th>\n",
       "      <td>IL</td>\n",
       "      <td>5</td>\n",
       "      <td>53</td>\n",
       "      <td>8.62</td>\n",
       "      <td>91.38</td>\n",
       "    </tr>\n",
       "    <tr>\n",
       "      <th>26</th>\n",
       "      <td>NH</td>\n",
       "      <td>9</td>\n",
       "      <td>47</td>\n",
       "      <td>16.07</td>\n",
       "      <td>83.93</td>\n",
       "    </tr>\n",
       "    <tr>\n",
       "      <th>27</th>\n",
       "      <td>GA</td>\n",
       "      <td>8</td>\n",
       "      <td>46</td>\n",
       "      <td>14.81</td>\n",
       "      <td>85.19</td>\n",
       "    </tr>\n",
       "    <tr>\n",
       "      <th>28</th>\n",
       "      <td>AK</td>\n",
       "      <td>3</td>\n",
       "      <td>49</td>\n",
       "      <td>5.77</td>\n",
       "      <td>94.23</td>\n",
       "    </tr>\n",
       "    <tr>\n",
       "      <th>29</th>\n",
       "      <td>MD</td>\n",
       "      <td>17</td>\n",
       "      <td>53</td>\n",
       "      <td>24.29</td>\n",
       "      <td>75.71</td>\n",
       "    </tr>\n",
       "    <tr>\n",
       "      <th>30</th>\n",
       "      <td>AR</td>\n",
       "      <td>11</td>\n",
       "      <td>44</td>\n",
       "      <td>20.00</td>\n",
       "      <td>80.00</td>\n",
       "    </tr>\n",
       "    <tr>\n",
       "      <th>31</th>\n",
       "      <td>WI</td>\n",
       "      <td>7</td>\n",
       "      <td>71</td>\n",
       "      <td>8.97</td>\n",
       "      <td>91.03</td>\n",
       "    </tr>\n",
       "    <tr>\n",
       "      <th>32</th>\n",
       "      <td>OR</td>\n",
       "      <td>11</td>\n",
       "      <td>67</td>\n",
       "      <td>14.10</td>\n",
       "      <td>85.90</td>\n",
       "    </tr>\n",
       "    <tr>\n",
       "      <th>33</th>\n",
       "      <td>MI</td>\n",
       "      <td>16</td>\n",
       "      <td>57</td>\n",
       "      <td>21.92</td>\n",
       "      <td>78.08</td>\n",
       "    </tr>\n",
       "    <tr>\n",
       "      <th>34</th>\n",
       "      <td>DE</td>\n",
       "      <td>9</td>\n",
       "      <td>52</td>\n",
       "      <td>14.75</td>\n",
       "      <td>85.25</td>\n",
       "    </tr>\n",
       "    <tr>\n",
       "      <th>35</th>\n",
       "      <td>UT</td>\n",
       "      <td>10</td>\n",
       "      <td>62</td>\n",
       "      <td>13.89</td>\n",
       "      <td>86.11</td>\n",
       "    </tr>\n",
       "    <tr>\n",
       "      <th>36</th>\n",
       "      <td>CA</td>\n",
       "      <td>9</td>\n",
       "      <td>25</td>\n",
       "      <td>26.47</td>\n",
       "      <td>73.53</td>\n",
       "    </tr>\n",
       "    <tr>\n",
       "      <th>37</th>\n",
       "      <td>MN</td>\n",
       "      <td>15</td>\n",
       "      <td>69</td>\n",
       "      <td>17.86</td>\n",
       "      <td>82.14</td>\n",
       "    </tr>\n",
       "    <tr>\n",
       "      <th>38</th>\n",
       "      <td>SD</td>\n",
       "      <td>8</td>\n",
       "      <td>52</td>\n",
       "      <td>13.33</td>\n",
       "      <td>86.67</td>\n",
       "    </tr>\n",
       "    <tr>\n",
       "      <th>39</th>\n",
       "      <td>NC</td>\n",
       "      <td>11</td>\n",
       "      <td>57</td>\n",
       "      <td>16.18</td>\n",
       "      <td>83.82</td>\n",
       "    </tr>\n",
       "    <tr>\n",
       "      <th>40</th>\n",
       "      <td>WA</td>\n",
       "      <td>14</td>\n",
       "      <td>52</td>\n",
       "      <td>21.21</td>\n",
       "      <td>78.79</td>\n",
       "    </tr>\n",
       "    <tr>\n",
       "      <th>41</th>\n",
       "      <td>NM</td>\n",
       "      <td>6</td>\n",
       "      <td>56</td>\n",
       "      <td>9.68</td>\n",
       "      <td>90.32</td>\n",
       "    </tr>\n",
       "    <tr>\n",
       "      <th>42</th>\n",
       "      <td>NV</td>\n",
       "      <td>14</td>\n",
       "      <td>52</td>\n",
       "      <td>21.21</td>\n",
       "      <td>78.79</td>\n",
       "    </tr>\n",
       "    <tr>\n",
       "      <th>43</th>\n",
       "      <td>DC</td>\n",
       "      <td>5</td>\n",
       "      <td>49</td>\n",
       "      <td>9.26</td>\n",
       "      <td>90.74</td>\n",
       "    </tr>\n",
       "    <tr>\n",
       "      <th>44</th>\n",
       "      <td>KY</td>\n",
       "      <td>8</td>\n",
       "      <td>51</td>\n",
       "      <td>13.56</td>\n",
       "      <td>86.44</td>\n",
       "    </tr>\n",
       "    <tr>\n",
       "      <th>45</th>\n",
       "      <td>ME</td>\n",
       "      <td>13</td>\n",
       "      <td>49</td>\n",
       "      <td>20.97</td>\n",
       "      <td>79.03</td>\n",
       "    </tr>\n",
       "    <tr>\n",
       "      <th>46</th>\n",
       "      <td>MS</td>\n",
       "      <td>14</td>\n",
       "      <td>51</td>\n",
       "      <td>21.54</td>\n",
       "      <td>78.46</td>\n",
       "    </tr>\n",
       "    <tr>\n",
       "      <th>47</th>\n",
       "      <td>TN</td>\n",
       "      <td>5</td>\n",
       "      <td>48</td>\n",
       "      <td>9.43</td>\n",
       "      <td>90.57</td>\n",
       "    </tr>\n",
       "    <tr>\n",
       "      <th>48</th>\n",
       "      <td>PA</td>\n",
       "      <td>8</td>\n",
       "      <td>37</td>\n",
       "      <td>17.78</td>\n",
       "      <td>82.22</td>\n",
       "    </tr>\n",
       "    <tr>\n",
       "      <th>49</th>\n",
       "      <td>CT</td>\n",
       "      <td>12</td>\n",
       "      <td>62</td>\n",
       "      <td>16.22</td>\n",
       "      <td>83.78</td>\n",
       "    </tr>\n",
       "    <tr>\n",
       "      <th>50</th>\n",
       "      <td>ND</td>\n",
       "      <td>6</td>\n",
       "      <td>56</td>\n",
       "      <td>9.68</td>\n",
       "      <td>90.32</td>\n",
       "    </tr>\n",
       "  </tbody>\n",
       "</table>\n",
       "</div>"
      ],
      "text/plain": [
       "   states_name  churn_true  chrun_false  churn_true %  churn_false %\n",
       "0           KS          13           57         18.57          81.43\n",
       "1           OH          10           68         12.82          87.18\n",
       "2           NJ          18           50         26.47          73.53\n",
       "3           OK           9           52         14.75          85.25\n",
       "4           AL           8           72         10.00          90.00\n",
       "5           MA          11           54         16.92          83.08\n",
       "6           MO           7           56         11.11          88.89\n",
       "7           LA           4           47          7.84          92.16\n",
       "8           WV          10           96          9.43          90.57\n",
       "9           IN           9           62         12.68          87.32\n",
       "10          RI           6           59          9.23          90.77\n",
       "11          IA           3           41          6.82          93.18\n",
       "12          MT          14           54         20.59          79.41\n",
       "13          NY          15           68         18.07          81.93\n",
       "14          ID           9           64         12.33          87.67\n",
       "15          VT           8           65         10.96          89.04\n",
       "16          VA           5           72          6.49          93.51\n",
       "17          TX          18           54         25.00          75.00\n",
       "18          FL           8           55         12.70          87.30\n",
       "19          CO           9           57         13.64          86.36\n",
       "20          AZ           4           60          6.25          93.75\n",
       "21          SC          14           46         23.33          76.67\n",
       "22          NE           5           56          8.20          91.80\n",
       "23          WY           9           68         11.69          88.31\n",
       "24          HI           3           50          5.66          94.34\n",
       "25          IL           5           53          8.62          91.38\n",
       "26          NH           9           47         16.07          83.93\n",
       "27          GA           8           46         14.81          85.19\n",
       "28          AK           3           49          5.77          94.23\n",
       "29          MD          17           53         24.29          75.71\n",
       "30          AR          11           44         20.00          80.00\n",
       "31          WI           7           71          8.97          91.03\n",
       "32          OR          11           67         14.10          85.90\n",
       "33          MI          16           57         21.92          78.08\n",
       "34          DE           9           52         14.75          85.25\n",
       "35          UT          10           62         13.89          86.11\n",
       "36          CA           9           25         26.47          73.53\n",
       "37          MN          15           69         17.86          82.14\n",
       "38          SD           8           52         13.33          86.67\n",
       "39          NC          11           57         16.18          83.82\n",
       "40          WA          14           52         21.21          78.79\n",
       "41          NM           6           56          9.68          90.32\n",
       "42          NV          14           52         21.21          78.79\n",
       "43          DC           5           49          9.26          90.74\n",
       "44          KY           8           51         13.56          86.44\n",
       "45          ME          13           49         20.97          79.03\n",
       "46          MS          14           51         21.54          78.46\n",
       "47          TN           5           48          9.43          90.57\n",
       "48          PA           8           37         17.78          82.22\n",
       "49          CT          12           62         16.22          83.78\n",
       "50          ND           6           56          9.68          90.32"
      ]
     },
     "execution_count": 15,
     "metadata": {},
     "output_type": "execute_result"
    }
   ],
   "source": [
    "# Creating df_statewise_churn_count% foe analysis\n",
    "\n",
    "states_name=df['State'].unique()\n",
    "churn_true=[df[(df['State']==state)]['Churn'].value_counts()[1] for state in states_name]\n",
    "chrun_false=[df[(df['State']==state)]['Churn'].value_counts()[0] for state in states_name]\n",
    "\n",
    "df_statewise_churn_count=pd.DataFrame({'states_name' : states_name,\n",
    "                                       'churn_true'  : churn_true,\n",
    "                                       'chrun_false' : chrun_false})\n",
    "\n",
    "df_statewise_churn_count['churn_true %']= round(((df_statewise_churn_count['churn_true'])/\n",
    "                                                 ((df_statewise_churn_count['churn_true'])+ (df_statewise_churn_count['chrun_false'])))*100,2)\n",
    "df_statewise_churn_count['churn_false %']= round(((df_statewise_churn_count['chrun_false'])/\n",
    "                                                  ((df_statewise_churn_count['churn_true'])+ (df_statewise_churn_count['chrun_false'])))*100,2)\n",
    "df_statewise_churn_count"
   ]
  },
  {
   "cell_type": "code",
   "execution_count": 16,
   "id": "5992c3cb",
   "metadata": {},
   "outputs": [
    {
     "data": {
      "text/html": [
       "<div>\n",
       "<style scoped>\n",
       "    .dataframe tbody tr th:only-of-type {\n",
       "        vertical-align: middle;\n",
       "    }\n",
       "\n",
       "    .dataframe tbody tr th {\n",
       "        vertical-align: top;\n",
       "    }\n",
       "\n",
       "    .dataframe thead th {\n",
       "        text-align: right;\n",
       "    }\n",
       "</style>\n",
       "<table border=\"1\" class=\"dataframe\">\n",
       "  <thead>\n",
       "    <tr style=\"text-align: right;\">\n",
       "      <th></th>\n",
       "      <th>states_name</th>\n",
       "      <th>churn_true</th>\n",
       "      <th>chrun_false</th>\n",
       "      <th>churn_true %</th>\n",
       "      <th>churn_false %</th>\n",
       "    </tr>\n",
       "  </thead>\n",
       "  <tbody>\n",
       "    <tr>\n",
       "      <th>36</th>\n",
       "      <td>CA</td>\n",
       "      <td>9</td>\n",
       "      <td>25</td>\n",
       "      <td>26.47</td>\n",
       "      <td>73.53</td>\n",
       "    </tr>\n",
       "    <tr>\n",
       "      <th>2</th>\n",
       "      <td>NJ</td>\n",
       "      <td>18</td>\n",
       "      <td>50</td>\n",
       "      <td>26.47</td>\n",
       "      <td>73.53</td>\n",
       "    </tr>\n",
       "    <tr>\n",
       "      <th>17</th>\n",
       "      <td>TX</td>\n",
       "      <td>18</td>\n",
       "      <td>54</td>\n",
       "      <td>25.00</td>\n",
       "      <td>75.00</td>\n",
       "    </tr>\n",
       "    <tr>\n",
       "      <th>29</th>\n",
       "      <td>MD</td>\n",
       "      <td>17</td>\n",
       "      <td>53</td>\n",
       "      <td>24.29</td>\n",
       "      <td>75.71</td>\n",
       "    </tr>\n",
       "    <tr>\n",
       "      <th>21</th>\n",
       "      <td>SC</td>\n",
       "      <td>14</td>\n",
       "      <td>46</td>\n",
       "      <td>23.33</td>\n",
       "      <td>76.67</td>\n",
       "    </tr>\n",
       "    <tr>\n",
       "      <th>33</th>\n",
       "      <td>MI</td>\n",
       "      <td>16</td>\n",
       "      <td>57</td>\n",
       "      <td>21.92</td>\n",
       "      <td>78.08</td>\n",
       "    </tr>\n",
       "    <tr>\n",
       "      <th>46</th>\n",
       "      <td>MS</td>\n",
       "      <td>14</td>\n",
       "      <td>51</td>\n",
       "      <td>21.54</td>\n",
       "      <td>78.46</td>\n",
       "    </tr>\n",
       "    <tr>\n",
       "      <th>40</th>\n",
       "      <td>WA</td>\n",
       "      <td>14</td>\n",
       "      <td>52</td>\n",
       "      <td>21.21</td>\n",
       "      <td>78.79</td>\n",
       "    </tr>\n",
       "    <tr>\n",
       "      <th>42</th>\n",
       "      <td>NV</td>\n",
       "      <td>14</td>\n",
       "      <td>52</td>\n",
       "      <td>21.21</td>\n",
       "      <td>78.79</td>\n",
       "    </tr>\n",
       "    <tr>\n",
       "      <th>45</th>\n",
       "      <td>ME</td>\n",
       "      <td>13</td>\n",
       "      <td>49</td>\n",
       "      <td>20.97</td>\n",
       "      <td>79.03</td>\n",
       "    </tr>\n",
       "    <tr>\n",
       "      <th>12</th>\n",
       "      <td>MT</td>\n",
       "      <td>14</td>\n",
       "      <td>54</td>\n",
       "      <td>20.59</td>\n",
       "      <td>79.41</td>\n",
       "    </tr>\n",
       "    <tr>\n",
       "      <th>30</th>\n",
       "      <td>AR</td>\n",
       "      <td>11</td>\n",
       "      <td>44</td>\n",
       "      <td>20.00</td>\n",
       "      <td>80.00</td>\n",
       "    </tr>\n",
       "  </tbody>\n",
       "</table>\n",
       "</div>"
      ],
      "text/plain": [
       "   states_name  churn_true  chrun_false  churn_true %  churn_false %\n",
       "36          CA           9           25         26.47          73.53\n",
       "2           NJ          18           50         26.47          73.53\n",
       "17          TX          18           54         25.00          75.00\n",
       "29          MD          17           53         24.29          75.71\n",
       "21          SC          14           46         23.33          76.67\n",
       "33          MI          16           57         21.92          78.08\n",
       "46          MS          14           51         21.54          78.46\n",
       "40          WA          14           52         21.21          78.79\n",
       "42          NV          14           52         21.21          78.79\n",
       "45          ME          13           49         20.97          79.03\n",
       "12          MT          14           54         20.59          79.41\n",
       "30          AR          11           44         20.00          80.00"
      ]
     },
     "execution_count": 16,
     "metadata": {},
     "output_type": "execute_result"
    }
   ],
   "source": [
    "#Filtering states which have rate more than 20% \n",
    "\n",
    "df_statewise_churn_more_20=df_statewise_churn_count.sort_values(by=['churn_true %'],ascending=False)[(df_statewise_churn_count['churn_true %']>=20)]\n",
    "df_statewise_churn_more_20"
   ]
  },
  {
   "cell_type": "code",
   "execution_count": 17,
   "id": "c2a9890b",
   "metadata": {},
   "outputs": [
    {
     "data": {
      "text/plain": [
       "Text(0, 0.5, '% Churn Rate')"
      ]
     },
     "execution_count": 17,
     "metadata": {},
     "output_type": "execute_result"
    },
    {
     "data": {
      "image/png": "[encoded data removed]",
      "text/plain": [
       "<Figure size 640x480 with 1 Axes>"
      ]
     },
     "metadata": {},
     "output_type": "display_data"
    }
   ],
   "source": [
    "# bar plot of states which have rate more than 20% \n",
    "\n",
    "plt.bar(df_statewise_churn_more_20['states_name'],df_statewise_churn_more_20['churn_true %'])\n",
    "plt.title('States With Churn Rate More Than 20%')\n",
    "plt.xlabel('State')\n",
    "plt.ylabel('% Churn Rate')"
   ]
  },
  {
   "cell_type": "code",
   "execution_count": 18,
   "id": "2705d389",
   "metadata": {},
   "outputs": [
    {
     "data": {
      "text/html": [
       "<div>\n",
       "<style scoped>\n",
       "    .dataframe tbody tr th:only-of-type {\n",
       "        vertical-align: middle;\n",
       "    }\n",
       "\n",
       "    .dataframe tbody tr th {\n",
       "        vertical-align: top;\n",
       "    }\n",
       "\n",
       "    .dataframe thead th {\n",
       "        text-align: right;\n",
       "    }\n",
       "</style>\n",
       "<table border=\"1\" class=\"dataframe\">\n",
       "  <thead>\n",
       "    <tr style=\"text-align: right;\">\n",
       "      <th></th>\n",
       "      <th>states_name</th>\n",
       "      <th>churn_true</th>\n",
       "      <th>chrun_false</th>\n",
       "      <th>churn_true %</th>\n",
       "      <th>churn_false %</th>\n",
       "    </tr>\n",
       "  </thead>\n",
       "  <tbody>\n",
       "    <tr>\n",
       "      <th>24</th>\n",
       "      <td>HI</td>\n",
       "      <td>3</td>\n",
       "      <td>50</td>\n",
       "      <td>5.66</td>\n",
       "      <td>94.34</td>\n",
       "    </tr>\n",
       "    <tr>\n",
       "      <th>28</th>\n",
       "      <td>AK</td>\n",
       "      <td>3</td>\n",
       "      <td>49</td>\n",
       "      <td>5.77</td>\n",
       "      <td>94.23</td>\n",
       "    </tr>\n",
       "    <tr>\n",
       "      <th>20</th>\n",
       "      <td>AZ</td>\n",
       "      <td>4</td>\n",
       "      <td>60</td>\n",
       "      <td>6.25</td>\n",
       "      <td>93.75</td>\n",
       "    </tr>\n",
       "    <tr>\n",
       "      <th>16</th>\n",
       "      <td>VA</td>\n",
       "      <td>5</td>\n",
       "      <td>72</td>\n",
       "      <td>6.49</td>\n",
       "      <td>93.51</td>\n",
       "    </tr>\n",
       "    <tr>\n",
       "      <th>11</th>\n",
       "      <td>IA</td>\n",
       "      <td>3</td>\n",
       "      <td>41</td>\n",
       "      <td>6.82</td>\n",
       "      <td>93.18</td>\n",
       "    </tr>\n",
       "    <tr>\n",
       "      <th>7</th>\n",
       "      <td>LA</td>\n",
       "      <td>4</td>\n",
       "      <td>47</td>\n",
       "      <td>7.84</td>\n",
       "      <td>92.16</td>\n",
       "    </tr>\n",
       "    <tr>\n",
       "      <th>22</th>\n",
       "      <td>NE</td>\n",
       "      <td>5</td>\n",
       "      <td>56</td>\n",
       "      <td>8.20</td>\n",
       "      <td>91.80</td>\n",
       "    </tr>\n",
       "    <tr>\n",
       "      <th>25</th>\n",
       "      <td>IL</td>\n",
       "      <td>5</td>\n",
       "      <td>53</td>\n",
       "      <td>8.62</td>\n",
       "      <td>91.38</td>\n",
       "    </tr>\n",
       "    <tr>\n",
       "      <th>31</th>\n",
       "      <td>WI</td>\n",
       "      <td>7</td>\n",
       "      <td>71</td>\n",
       "      <td>8.97</td>\n",
       "      <td>91.03</td>\n",
       "    </tr>\n",
       "    <tr>\n",
       "      <th>10</th>\n",
       "      <td>RI</td>\n",
       "      <td>6</td>\n",
       "      <td>59</td>\n",
       "      <td>9.23</td>\n",
       "      <td>90.77</td>\n",
       "    </tr>\n",
       "  </tbody>\n",
       "</table>\n",
       "</div>"
      ],
      "text/plain": [
       "   states_name  churn_true  chrun_false  churn_true %  churn_false %\n",
       "24          HI           3           50          5.66          94.34\n",
       "28          AK           3           49          5.77          94.23\n",
       "20          AZ           4           60          6.25          93.75\n",
       "16          VA           5           72          6.49          93.51\n",
       "11          IA           3           41          6.82          93.18\n",
       "7           LA           4           47          7.84          92.16\n",
       "22          NE           5           56          8.20          91.80\n",
       "25          IL           5           53          8.62          91.38\n",
       "31          WI           7           71          8.97          91.03\n",
       "10          RI           6           59          9.23          90.77"
      ]
     },
     "execution_count": 18,
     "metadata": {},
     "output_type": "execute_result"
    }
   ],
   "source": [
    "# Bottom 10 States which have less churn rate\n",
    "\n",
    "df_statewise_churn_count.sort_values(by=['churn_true %']).head(10)"
   ]
  },
  {
   "cell_type": "code",
   "execution_count": 19,
   "id": "a4c7e68a",
   "metadata": {},
   "outputs": [
    {
     "data": {
      "text/plain": [
       "Text(0, 0.5, '% Churn Rate')"
      ]
     },
     "execution_count": 19,
     "metadata": {},
     "output_type": "execute_result"
    },
    {
     "data": {
      "image/png": "[encoded data removed]",
      "text/plain": [
       "<Figure size 640x480 with 1 Axes>"
      ]
     },
     "metadata": {},
     "output_type": "display_data"
    }
   ],
   "source": [
    "# Bar plot of Bottom 10 States which have less churn rate\n",
    "\n",
    "plt.bar((df_statewise_churn_count.sort_values(by=['churn_true %']).head(10))['states_name'],(df_statewise_churn_count.sort_values(by=['churn_true %']).head(10))['churn_true %'])\n",
    "plt.title('Bottom 10 States With low Churn Rate')\n",
    "plt.xlabel('State')\n",
    "plt.ylabel('% Churn Rate')"
   ]
  },
  {
   "cell_type": "markdown",
   "id": "feb802c4",
   "metadata": {},
   "source": [
    "#### State 'CA' , 'NJ' have high churn rate of 26.47%.\n",
    "\n",
    "#### 'CA', 'NJ', 'TX', 'MD', 'SC', 'MI', 'MS', 'WA', 'NV', 'ME', 'MT' and 'AR' have churn rate more than 20%.\n",
    "\n",
    "#### State 'HI' have minimum churn rate of 5.66%."
   ]
  },
  {
   "cell_type": "markdown",
   "id": "0aa5619e",
   "metadata": {},
   "source": [
    "## Exploring Area code feature - Bivariate analysis"
   ]
  },
  {
   "cell_type": "code",
   "execution_count": 20,
   "id": "daf3e33c",
   "metadata": {},
   "outputs": [
    {
     "data": {
      "text/plain": [
       "3"
      ]
     },
     "execution_count": 20,
     "metadata": {},
     "output_type": "execute_result"
    }
   ],
   "source": [
    "# Unique area code\n",
    "\n",
    "df['Area code'].nunique()"
   ]
  },
  {
   "cell_type": "code",
   "execution_count": 21,
   "id": "37841e2c",
   "metadata": {},
   "outputs": [
    {
     "data": {
      "text/plain": [
       "415    1655\n",
       "510     840\n",
       "408     838\n",
       "Name: Area code, dtype: int64"
      ]
     },
     "execution_count": 21,
     "metadata": {},
     "output_type": "execute_result"
    }
   ],
   "source": [
    "# Value count of each area code\n",
    "\n",
    "df['Area code'].value_counts()"
   ]
  },
  {
   "cell_type": "code",
   "execution_count": 22,
   "id": "1ac51e4b",
   "metadata": {},
   "outputs": [
    {
     "data": {
      "text/plain": [
       "Text(0.5, 1.0, ' Churn count area code wise')"
      ]
     },
     "execution_count": 22,
     "metadata": {},
     "output_type": "execute_result"
    },
    {
     "data": {
      "image/png": "[encoded data removed]",
      "text/plain": [
       "<Figure size 1000x500 with 1 Axes>"
      ]
     },
     "metadata": {},
     "output_type": "display_data"
    }
   ],
   "source": [
    "# Ploting churn count area code wise\n",
    "\n",
    "fig, ax = plt.subplots(figsize=(10,5))\n",
    "sns.countplot(x=df['Area code'],hue='Churn',data=df)\n",
    "plt.title(' Churn count area code wise')"
   ]
  },
  {
   "cell_type": "code",
   "execution_count": 23,
   "id": "9bcfc234",
   "metadata": {},
   "outputs": [
    {
     "data": {
      "text/html": [
       "<div>\n",
       "<style scoped>\n",
       "    .dataframe tbody tr th:only-of-type {\n",
       "        vertical-align: middle;\n",
       "    }\n",
       "\n",
       "    .dataframe tbody tr th {\n",
       "        vertical-align: top;\n",
       "    }\n",
       "\n",
       "    .dataframe thead th {\n",
       "        text-align: right;\n",
       "    }\n",
       "</style>\n",
       "<table border=\"1\" class=\"dataframe\">\n",
       "  <thead>\n",
       "    <tr style=\"text-align: right;\">\n",
       "      <th></th>\n",
       "      <th>State</th>\n",
       "      <th>Account length</th>\n",
       "      <th>Area code</th>\n",
       "      <th>International plan</th>\n",
       "      <th>Voice mail plan</th>\n",
       "      <th>Number vmail messages</th>\n",
       "      <th>Total day minutes</th>\n",
       "      <th>Total day calls</th>\n",
       "      <th>Total day charge</th>\n",
       "      <th>Total eve minutes</th>\n",
       "      <th>Total eve calls</th>\n",
       "      <th>Total eve charge</th>\n",
       "      <th>Total night minutes</th>\n",
       "      <th>Total night calls</th>\n",
       "      <th>Total night charge</th>\n",
       "      <th>Total intl minutes</th>\n",
       "      <th>Total intl calls</th>\n",
       "      <th>Total intl charge</th>\n",
       "      <th>Customer service calls</th>\n",
       "      <th>Churn</th>\n",
       "    </tr>\n",
       "  </thead>\n",
       "  <tbody>\n",
       "    <tr>\n",
       "      <th>10</th>\n",
       "      <td>IN</td>\n",
       "      <td>65</td>\n",
       "      <td>415</td>\n",
       "      <td>No</td>\n",
       "      <td>No</td>\n",
       "      <td>0</td>\n",
       "      <td>129.1</td>\n",
       "      <td>137</td>\n",
       "      <td>21.95</td>\n",
       "      <td>228.5</td>\n",
       "      <td>83</td>\n",
       "      <td>19.42</td>\n",
       "      <td>208.8</td>\n",
       "      <td>111</td>\n",
       "      <td>9.40</td>\n",
       "      <td>12.7</td>\n",
       "      <td>6</td>\n",
       "      <td>3.43</td>\n",
       "      <td>4</td>\n",
       "      <td>True</td>\n",
       "    </tr>\n",
       "    <tr>\n",
       "      <th>15</th>\n",
       "      <td>NY</td>\n",
       "      <td>161</td>\n",
       "      <td>415</td>\n",
       "      <td>No</td>\n",
       "      <td>No</td>\n",
       "      <td>0</td>\n",
       "      <td>332.9</td>\n",
       "      <td>67</td>\n",
       "      <td>56.59</td>\n",
       "      <td>317.8</td>\n",
       "      <td>97</td>\n",
       "      <td>27.01</td>\n",
       "      <td>160.6</td>\n",
       "      <td>128</td>\n",
       "      <td>7.23</td>\n",
       "      <td>5.4</td>\n",
       "      <td>9</td>\n",
       "      <td>1.46</td>\n",
       "      <td>4</td>\n",
       "      <td>True</td>\n",
       "    </tr>\n",
       "    <tr>\n",
       "      <th>48</th>\n",
       "      <td>ID</td>\n",
       "      <td>119</td>\n",
       "      <td>415</td>\n",
       "      <td>No</td>\n",
       "      <td>No</td>\n",
       "      <td>0</td>\n",
       "      <td>159.1</td>\n",
       "      <td>114</td>\n",
       "      <td>27.05</td>\n",
       "      <td>231.3</td>\n",
       "      <td>117</td>\n",
       "      <td>19.66</td>\n",
       "      <td>143.2</td>\n",
       "      <td>91</td>\n",
       "      <td>6.44</td>\n",
       "      <td>8.8</td>\n",
       "      <td>3</td>\n",
       "      <td>2.38</td>\n",
       "      <td>5</td>\n",
       "      <td>True</td>\n",
       "    </tr>\n",
       "    <tr>\n",
       "      <th>54</th>\n",
       "      <td>WY</td>\n",
       "      <td>87</td>\n",
       "      <td>415</td>\n",
       "      <td>No</td>\n",
       "      <td>No</td>\n",
       "      <td>0</td>\n",
       "      <td>151.0</td>\n",
       "      <td>83</td>\n",
       "      <td>25.67</td>\n",
       "      <td>219.7</td>\n",
       "      <td>116</td>\n",
       "      <td>18.67</td>\n",
       "      <td>203.9</td>\n",
       "      <td>127</td>\n",
       "      <td>9.18</td>\n",
       "      <td>9.7</td>\n",
       "      <td>3</td>\n",
       "      <td>2.62</td>\n",
       "      <td>5</td>\n",
       "      <td>True</td>\n",
       "    </tr>\n",
       "    <tr>\n",
       "      <th>76</th>\n",
       "      <td>DC</td>\n",
       "      <td>82</td>\n",
       "      <td>415</td>\n",
       "      <td>No</td>\n",
       "      <td>No</td>\n",
       "      <td>0</td>\n",
       "      <td>300.3</td>\n",
       "      <td>109</td>\n",
       "      <td>51.05</td>\n",
       "      <td>181.0</td>\n",
       "      <td>100</td>\n",
       "      <td>15.39</td>\n",
       "      <td>270.1</td>\n",
       "      <td>73</td>\n",
       "      <td>12.15</td>\n",
       "      <td>11.7</td>\n",
       "      <td>4</td>\n",
       "      <td>3.16</td>\n",
       "      <td>0</td>\n",
       "      <td>True</td>\n",
       "    </tr>\n",
       "    <tr>\n",
       "      <th>...</th>\n",
       "      <td>...</td>\n",
       "      <td>...</td>\n",
       "      <td>...</td>\n",
       "      <td>...</td>\n",
       "      <td>...</td>\n",
       "      <td>...</td>\n",
       "      <td>...</td>\n",
       "      <td>...</td>\n",
       "      <td>...</td>\n",
       "      <td>...</td>\n",
       "      <td>...</td>\n",
       "      <td>...</td>\n",
       "      <td>...</td>\n",
       "      <td>...</td>\n",
       "      <td>...</td>\n",
       "      <td>...</td>\n",
       "      <td>...</td>\n",
       "      <td>...</td>\n",
       "      <td>...</td>\n",
       "      <td>...</td>\n",
       "    </tr>\n",
       "    <tr>\n",
       "      <th>3265</th>\n",
       "      <td>ID</td>\n",
       "      <td>82</td>\n",
       "      <td>415</td>\n",
       "      <td>No</td>\n",
       "      <td>No</td>\n",
       "      <td>0</td>\n",
       "      <td>266.9</td>\n",
       "      <td>83</td>\n",
       "      <td>45.37</td>\n",
       "      <td>229.7</td>\n",
       "      <td>74</td>\n",
       "      <td>19.52</td>\n",
       "      <td>251.7</td>\n",
       "      <td>99</td>\n",
       "      <td>11.33</td>\n",
       "      <td>11.0</td>\n",
       "      <td>6</td>\n",
       "      <td>2.97</td>\n",
       "      <td>3</td>\n",
       "      <td>True</td>\n",
       "    </tr>\n",
       "    <tr>\n",
       "      <th>3268</th>\n",
       "      <td>WA</td>\n",
       "      <td>84</td>\n",
       "      <td>415</td>\n",
       "      <td>No</td>\n",
       "      <td>No</td>\n",
       "      <td>0</td>\n",
       "      <td>289.1</td>\n",
       "      <td>100</td>\n",
       "      <td>49.15</td>\n",
       "      <td>233.8</td>\n",
       "      <td>97</td>\n",
       "      <td>19.87</td>\n",
       "      <td>223.5</td>\n",
       "      <td>148</td>\n",
       "      <td>10.06</td>\n",
       "      <td>12.7</td>\n",
       "      <td>2</td>\n",
       "      <td>3.43</td>\n",
       "      <td>2</td>\n",
       "      <td>True</td>\n",
       "    </tr>\n",
       "    <tr>\n",
       "      <th>3287</th>\n",
       "      <td>KS</td>\n",
       "      <td>170</td>\n",
       "      <td>415</td>\n",
       "      <td>No</td>\n",
       "      <td>Yes</td>\n",
       "      <td>42</td>\n",
       "      <td>199.5</td>\n",
       "      <td>119</td>\n",
       "      <td>33.92</td>\n",
       "      <td>135.0</td>\n",
       "      <td>90</td>\n",
       "      <td>11.48</td>\n",
       "      <td>184.6</td>\n",
       "      <td>49</td>\n",
       "      <td>8.31</td>\n",
       "      <td>10.9</td>\n",
       "      <td>3</td>\n",
       "      <td>2.94</td>\n",
       "      <td>4</td>\n",
       "      <td>True</td>\n",
       "    </tr>\n",
       "    <tr>\n",
       "      <th>3301</th>\n",
       "      <td>CA</td>\n",
       "      <td>84</td>\n",
       "      <td>415</td>\n",
       "      <td>No</td>\n",
       "      <td>No</td>\n",
       "      <td>0</td>\n",
       "      <td>280.0</td>\n",
       "      <td>113</td>\n",
       "      <td>47.60</td>\n",
       "      <td>202.2</td>\n",
       "      <td>90</td>\n",
       "      <td>17.19</td>\n",
       "      <td>156.8</td>\n",
       "      <td>103</td>\n",
       "      <td>7.06</td>\n",
       "      <td>10.4</td>\n",
       "      <td>4</td>\n",
       "      <td>2.81</td>\n",
       "      <td>0</td>\n",
       "      <td>True</td>\n",
       "    </tr>\n",
       "    <tr>\n",
       "      <th>3323</th>\n",
       "      <td>IN</td>\n",
       "      <td>117</td>\n",
       "      <td>415</td>\n",
       "      <td>No</td>\n",
       "      <td>No</td>\n",
       "      <td>0</td>\n",
       "      <td>118.4</td>\n",
       "      <td>126</td>\n",
       "      <td>20.13</td>\n",
       "      <td>249.3</td>\n",
       "      <td>97</td>\n",
       "      <td>21.19</td>\n",
       "      <td>227.0</td>\n",
       "      <td>56</td>\n",
       "      <td>10.22</td>\n",
       "      <td>13.6</td>\n",
       "      <td>3</td>\n",
       "      <td>3.67</td>\n",
       "      <td>5</td>\n",
       "      <td>True</td>\n",
       "    </tr>\n",
       "  </tbody>\n",
       "</table>\n",
       "<p>236 rows × 20 columns</p>\n",
       "</div>"
      ],
      "text/plain": [
       "     State  Account length  Area code International plan Voice mail plan  \\\n",
       "10      IN              65        415                 No              No   \n",
       "15      NY             161        415                 No              No   \n",
       "48      ID             119        415                 No              No   \n",
       "54      WY              87        415                 No              No   \n",
       "76      DC              82        415                 No              No   \n",
       "...    ...             ...        ...                ...             ...   \n",
       "3265    ID              82        415                 No              No   \n",
       "3268    WA              84        415                 No              No   \n",
       "3287    KS             170        415                 No             Yes   \n",
       "3301    CA              84        415                 No              No   \n",
       "3323    IN             117        415                 No              No   \n",
       "\n",
       "      Number vmail messages  Total day minutes  Total day calls  \\\n",
       "10                        0              129.1              137   \n",
       "15                        0              332.9               67   \n",
       "48                        0              159.1              114   \n",
       "54                        0              151.0               83   \n",
       "76                        0              300.3              109   \n",
       "...                     ...                ...              ...   \n",
       "3265                      0              266.9               83   \n",
       "3268                      0              289.1              100   \n",
       "3287                     42              199.5              119   \n",
       "3301                      0              280.0              113   \n",
       "3323                      0              118.4              126   \n",
       "\n",
       "      Total day charge  Total eve minutes  Total eve calls  Total eve charge  \\\n",
       "10               21.95              228.5               83             19.42   \n",
       "15               56.59              317.8               97             27.01   \n",
       "48               27.05              231.3              117             19.66   \n",
       "54               25.67              219.7              116             18.67   \n",
       "76               51.05              181.0              100             15.39   \n",
       "...                ...                ...              ...               ...   \n",
       "3265             45.37              229.7               74             19.52   \n",
       "3268             49.15              233.8               97             19.87   \n",
       "3287             33.92              135.0               90             11.48   \n",
       "3301             47.60              202.2               90             17.19   \n",
       "3323             20.13              249.3               97             21.19   \n",
       "\n",
       "      Total night minutes  Total night calls  Total night charge  \\\n",
       "10                  208.8                111                9.40   \n",
       "15                  160.6                128                7.23   \n",
       "48                  143.2                 91                6.44   \n",
       "54                  203.9                127                9.18   \n",
       "76                  270.1                 73               12.15   \n",
       "...                   ...                ...                 ...   \n",
       "3265                251.7                 99               11.33   \n",
       "3268                223.5                148               10.06   \n",
       "3287                184.6                 49                8.31   \n",
       "3301                156.8                103                7.06   \n",
       "3323                227.0                 56               10.22   \n",
       "\n",
       "      Total intl minutes  Total intl calls  Total intl charge  \\\n",
       "10                  12.7                 6               3.43   \n",
       "15                   5.4                 9               1.46   \n",
       "48                   8.8                 3               2.38   \n",
       "54                   9.7                 3               2.62   \n",
       "76                  11.7                 4               3.16   \n",
       "...                  ...               ...                ...   \n",
       "3265                11.0                 6               2.97   \n",
       "3268                12.7                 2               3.43   \n",
       "3287                10.9                 3               2.94   \n",
       "3301                10.4                 4               2.81   \n",
       "3323                13.6                 3               3.67   \n",
       "\n",
       "      Customer service calls  Churn  \n",
       "10                         4   True  \n",
       "15                         4   True  \n",
       "48                         5   True  \n",
       "54                         5   True  \n",
       "76                         0   True  \n",
       "...                      ...    ...  \n",
       "3265                       3   True  \n",
       "3268                       2   True  \n",
       "3287                       4   True  \n",
       "3301                       0   True  \n",
       "3323                       5   True  \n",
       "\n",
       "[236 rows x 20 columns]"
      ]
     },
     "execution_count": 23,
     "metadata": {},
     "output_type": "execute_result"
    }
   ],
   "source": [
    "df_Area_Code_415=df.groupby('Area code').get_group(415)\n",
    "df_Area_Code_415[df_Area_Code_415['Churn']==True]"
   ]
  },
  {
   "cell_type": "code",
   "execution_count": 24,
   "id": "690794a5",
   "metadata": {},
   "outputs": [
    {
     "data": {
      "text/html": [
       "<div>\n",
       "<style scoped>\n",
       "    .dataframe tbody tr th:only-of-type {\n",
       "        vertical-align: middle;\n",
       "    }\n",
       "\n",
       "    .dataframe tbody tr th {\n",
       "        vertical-align: top;\n",
       "    }\n",
       "\n",
       "    .dataframe thead th {\n",
       "        text-align: right;\n",
       "    }\n",
       "</style>\n",
       "<table border=\"1\" class=\"dataframe\">\n",
       "  <thead>\n",
       "    <tr style=\"text-align: right;\">\n",
       "      <th></th>\n",
       "      <th>area_code</th>\n",
       "      <th>churn_true</th>\n",
       "      <th>chrun_false</th>\n",
       "      <th>churn_true %</th>\n",
       "      <th>churn_false %</th>\n",
       "    </tr>\n",
       "  </thead>\n",
       "  <tbody>\n",
       "    <tr>\n",
       "      <th>0</th>\n",
       "      <td>415</td>\n",
       "      <td>236</td>\n",
       "      <td>1419</td>\n",
       "      <td>14.26</td>\n",
       "      <td>85.74</td>\n",
       "    </tr>\n",
       "    <tr>\n",
       "      <th>1</th>\n",
       "      <td>408</td>\n",
       "      <td>122</td>\n",
       "      <td>716</td>\n",
       "      <td>14.56</td>\n",
       "      <td>85.44</td>\n",
       "    </tr>\n",
       "    <tr>\n",
       "      <th>2</th>\n",
       "      <td>510</td>\n",
       "      <td>125</td>\n",
       "      <td>715</td>\n",
       "      <td>14.88</td>\n",
       "      <td>85.12</td>\n",
       "    </tr>\n",
       "  </tbody>\n",
       "</table>\n",
       "</div>"
      ],
      "text/plain": [
       "   area_code  churn_true  chrun_false  churn_true %  churn_false %\n",
       "0        415         236         1419         14.26          85.74\n",
       "1        408         122          716         14.56          85.44\n",
       "2        510         125          715         14.88          85.12"
      ]
     },
     "execution_count": 24,
     "metadata": {},
     "output_type": "execute_result"
    }
   ],
   "source": [
    "# creating df_areawise_churn_count%\n",
    "\n",
    "area_code=df['Area code'].unique()\n",
    "churn_true=[df[(df['Area code']==area)]['Churn'].value_counts()[1] for area in area_code]\n",
    "chrun_false=[df[(df['Area code']==area)]['Churn'].value_counts()[0] for area in area_code]\n",
    "\n",
    "df_areawise_churn_count=pd.DataFrame({'area_code' : area_code,\n",
    "                                       'churn_true'  : churn_true,\n",
    "                                       'chrun_false' : chrun_false})\n",
    "df_areawise_churn_count\n",
    "df_areawise_churn_count['churn_true %']= round(((df_areawise_churn_count['churn_true'])/\n",
    "                                                 ((df_areawise_churn_count['churn_true'])+ (df_areawise_churn_count['chrun_false'])))*100,2)\n",
    "df_areawise_churn_count['churn_false %']= round(((df_areawise_churn_count['chrun_false'])/\n",
    "                                                  ((df_areawise_churn_count['churn_true'])+ (df_areawise_churn_count['chrun_false'])))*100,2)\n",
    "df_areawise_churn_count"
   ]
  },
  {
   "cell_type": "code",
   "execution_count": 47,
   "id": "a9eac784",
   "metadata": {},
   "outputs": [
    {
     "data": {
      "text/plain": [
       "Text(0.5, 1.0, 'churn rate % of each area')"
      ]
     },
     "execution_count": 47,
     "metadata": {},
     "output_type": "execute_result"
    },
    {
     "data": {
      "image/png": "[encoded data removed]",
      "text/plain": [
       "<Figure size 640x480 with 1 Axes>"
      ]
     },
     "metadata": {},
     "output_type": "display_data"
    }
   ],
   "source": [
    "# Ploting churn rate % of each area\n",
    "\n",
    "plt.bar(df_areawise_churn_count['area_code'].astype('str'),df_areawise_churn_count['churn_true %'])\n",
    "plt.xlabel(\"area_code\")\n",
    "plt.ylabel(\"churn_true %\")\n",
    "plt.title(\"churn rate % of each area\")"
   ]
  },
  {
   "cell_type": "markdown",
   "id": "d0c6de34",
   "metadata": {},
   "source": [
    "#### There is three area code that is 408, 415, 510\n",
    "\n",
    "#### Churn rate of all 3 area code almost same that is around 14.5%"
   ]
  },
  {
   "cell_type": "markdown",
   "id": "6431928a",
   "metadata": {},
   "source": [
    "## Exploring Account length\t feature - Bivariate analysis"
   ]
  },
  {
   "cell_type": "code",
   "execution_count": 33,
   "id": "c0383c90",
   "metadata": {},
   "outputs": [],
   "source": [
    "# Creating Account lenth churn and not churn df\n",
    "\n",
    "Account_length_churn=df[(df['Churn']==True)]\n",
    "Account_length_not_churn=df[(df['Churn']==False)]"
   ]
  },
  {
   "cell_type": "code",
   "execution_count": 34,
   "id": "8647bf3c",
   "metadata": {},
   "outputs": [
    {
     "name": "stdout",
     "output_type": "stream",
     "text": [
      "Mean of Accout length of all data 101.06480648064806\n",
      "Mean of Accout length of Churn 102.66459627329192\n",
      "Mean of Accout length of Not churn 100.79368421052632\n"
     ]
    }
   ],
   "source": [
    "# Mean \n",
    "\n",
    "print('Mean of Accout length of all data',df['Account length'].mean())\n",
    "print('Mean of Accout length of Churn',Account_length_churn['Account length'].mean())\n",
    "print('Mean of Accout length of Not churn',Account_length_not_churn['Account length'].mean())"
   ]
  },
  {
   "cell_type": "code",
   "execution_count": 35,
   "id": "b61cf892",
   "metadata": {},
   "outputs": [
    {
     "name": "stdout",
     "output_type": "stream",
     "text": [
      "Median of Accout length of all data 101.0\n",
      "Median of Accout length of Churn 103.0\n",
      "Median of Accout length of Not churn 100.0\n"
     ]
    }
   ],
   "source": [
    "# Median \n",
    "\n",
    "df['Account length'].median()\n",
    "print('Median of Accout length of all data',df['Account length'].median())\n",
    "print('Median of Accout length of Churn',Account_length_churn['Account length'].median())\n",
    "print('Median of Accout length of Not churn',Account_length_not_churn['Account length'].median())"
   ]
  },
  {
   "cell_type": "markdown",
   "id": "61f7bc19",
   "metadata": {},
   "source": [
    "#### Here all Means and Medians of acount length are almost same then we can say account lenth is normally distrubuted ."
   ]
  },
  {
   "cell_type": "code",
   "execution_count": 39,
   "id": "03e1e7a6",
   "metadata": {},
   "outputs": [
    {
     "data": {
      "text/plain": [
       "<matplotlib.legend.Legend at 0x202a51f5fd0>"
      ]
     },
     "execution_count": 39,
     "metadata": {},
     "output_type": "execute_result"
    },
    {
     "data": {
      "image/png": "[encoded data removed]",
      "text/plain": [
       "<Figure size 640x480 with 1 Axes>"
      ]
     },
     "metadata": {},
     "output_type": "display_data"
    }
   ],
   "source": [
    "sns.distplot(df['Account length'], color='blue' , label='All') \n",
    "sns.distplot(Account_length_churn['Account length'],color='red' , label='Churn',hist=False)\n",
    "sns.distplot(Account_length_not_churn['Account length'],color='green' , label='Not Churn',hist=False) \n",
    "plt.legend()"
   ]
  },
  {
   "cell_type": "markdown",
   "id": "abe2c18e",
   "metadata": {},
   "source": [
    "#### The account length of churn, not churn and for all data is normal distribution"
   ]
  },
  {
   "cell_type": "code",
   "execution_count": 40,
   "id": "3ef1aa1c",
   "metadata": {},
   "outputs": [
    {
     "data": {
      "text/plain": [
       "{'whiskers': [<matplotlib.lines.Line2D at 0x202a4f35e50>,\n",
       "  <matplotlib.lines.Line2D at 0x202a4e588b0>],\n",
       " 'caps': [<matplotlib.lines.Line2D at 0x202a08a2340>,\n",
       "  <matplotlib.lines.Line2D at 0x202a00e2b20>],\n",
       " 'boxes': [<matplotlib.lines.Line2D at 0x202a4e47070>],\n",
       " 'medians': [<matplotlib.lines.Line2D at 0x202a07d5610>],\n",
       " 'fliers': [<matplotlib.lines.Line2D at 0x2029c6d29a0>],\n",
       " 'means': []}"
      ]
     },
     "execution_count": 40,
     "metadata": {},
     "output_type": "execute_result"
    },
    {
     "data": {
      "image/png": "[encoded data removed]",
      "text/plain": [
       "<Figure size 640x480 with 1 Axes>"
      ]
     },
     "metadata": {},
     "output_type": "display_data"
    }
   ],
   "source": [
    "plt.boxplot(df['Account length'])"
   ]
  },
  {
   "cell_type": "markdown",
   "id": "2e75befb",
   "metadata": {},
   "source": [
    "#### the account length have some outliers"
   ]
  },
  {
   "cell_type": "markdown",
   "id": "16e7a50d",
   "metadata": {},
   "source": [
    "## Exploring International plan\tfeature - Bivariate analysis"
   ]
  },
  {
   "cell_type": "code",
   "execution_count": 70,
   "id": "ef1fd10a",
   "metadata": {},
   "outputs": [
    {
     "data": {
      "text/plain": [
       "array(['Yes', 'No'], dtype=object)"
      ]
     },
     "execution_count": 70,
     "metadata": {},
     "output_type": "execute_result"
    }
   ],
   "source": [
    "# cheking unique values\n",
    "df['International plan'].unique()"
   ]
  },
  {
   "cell_type": "code",
   "execution_count": 44,
   "id": "ed2088b7",
   "metadata": {},
   "outputs": [
    {
     "data": {
      "text/plain": [
       "No     3010\n",
       "Yes     323\n",
       "Name: International plan, dtype: int64"
      ]
     },
     "execution_count": 44,
     "metadata": {},
     "output_type": "execute_result"
    }
   ],
   "source": [
    "# checking value count\n",
    "df['International plan'].value_counts()"
   ]
  },
  {
   "cell_type": "code",
   "execution_count": 75,
   "id": "36599e39",
   "metadata": {},
   "outputs": [
    {
     "data": {
      "text/plain": [
       "Text(0.5, 1.0, 'Pie Chart For International plan')"
      ]
     },
     "execution_count": 75,
     "metadata": {},
     "output_type": "execute_result"
    },
    {
     "data": {
      "image/png": "[encoded data removed]",
      "text/plain": [
       "<Figure size 500x500 with 1 Axes>"
      ]
     },
     "metadata": {},
     "output_type": "display_data"
    }
   ],
   "source": [
    "# Ploting value counts\n",
    "\n",
    "df['International plan'].value_counts().plot.pie(explode=[0.05,0.05], autopct='%1.1f%%',startangle=90, figsize=(5,5))\n",
    "plt.title('Pie Chart For International plan')"
   ]
  },
  {
   "cell_type": "markdown",
   "id": "03ac7019",
   "metadata": {},
   "source": [
    "#### Only 9.7% customer use International plan"
   ]
  },
  {
   "cell_type": "code",
   "execution_count": 62,
   "id": "a07060b0",
   "metadata": {},
   "outputs": [
    {
     "data": {
      "text/html": [
       "<div>\n",
       "<style scoped>\n",
       "    .dataframe tbody tr th:only-of-type {\n",
       "        vertical-align: middle;\n",
       "    }\n",
       "\n",
       "    .dataframe tbody tr th {\n",
       "        vertical-align: top;\n",
       "    }\n",
       "\n",
       "    .dataframe thead th {\n",
       "        text-align: right;\n",
       "    }\n",
       "</style>\n",
       "<table border=\"1\" class=\"dataframe\">\n",
       "  <thead>\n",
       "    <tr style=\"text-align: right;\">\n",
       "      <th></th>\n",
       "      <th>International plan</th>\n",
       "      <th>churn_true</th>\n",
       "      <th>chrun_false</th>\n",
       "      <th>churn_true %</th>\n",
       "      <th>churn_false %</th>\n",
       "    </tr>\n",
       "  </thead>\n",
       "  <tbody>\n",
       "    <tr>\n",
       "      <th>0</th>\n",
       "      <td>No</td>\n",
       "      <td>346</td>\n",
       "      <td>2664</td>\n",
       "      <td>11.50</td>\n",
       "      <td>88.50</td>\n",
       "    </tr>\n",
       "    <tr>\n",
       "      <th>1</th>\n",
       "      <td>Yes</td>\n",
       "      <td>137</td>\n",
       "      <td>186</td>\n",
       "      <td>42.41</td>\n",
       "      <td>57.59</td>\n",
       "    </tr>\n",
       "  </tbody>\n",
       "</table>\n",
       "</div>"
      ],
      "text/plain": [
       "  International plan  churn_true  chrun_false  churn_true %  churn_false %\n",
       "0                 No         346         2664         11.50          88.50\n",
       "1                Yes         137          186         42.41          57.59"
      ]
     },
     "execution_count": 62,
     "metadata": {},
     "output_type": "execute_result"
    }
   ],
   "source": [
    "# creating df International plan churn count%\n",
    "\n",
    "Int_plan=df['International plan'].unique()\n",
    "churn_true=[df[(df['International plan']==plan)]['Churn'].value_counts()[1] for plan in Int_plan]\n",
    "chrun_false=[df[(df['International plan']==plan)]['Churn'].value_counts()[0] for plan in Int_plan]\n",
    "\n",
    "df_Int_plan_churn_count=pd.DataFrame({'International plan' : Int_plan,\n",
    "                                       'churn_true'  : churn_true,\n",
    "                                       'chrun_false' : chrun_false})\n",
    "\n",
    "df_Int_plan_churn_count['churn_true %']= round(((df_Int_plan_churn_count['churn_true'])/\n",
    "                                                 ((df_Int_plan_churn_count['churn_true'])+ (df_Int_plan_churn_count['chrun_false'])))*100,2)\n",
    "df_Int_plan_churn_count['churn_false %']= round(((df_Int_plan_churn_count['chrun_false'])/\n",
    "                                                  ((df_Int_plan_churn_count['churn_true'])+ (df_Int_plan_churn_count['chrun_false'])))*100,2)\n",
    "df_Int_plan_churn_count"
   ]
  },
  {
   "cell_type": "code",
   "execution_count": 67,
   "id": "32cb870e",
   "metadata": {},
   "outputs": [
    {
     "data": {
      "text/plain": [
       "Text(0.5, 1.0, 'churn rate % of International plan')"
      ]
     },
     "execution_count": 67,
     "metadata": {},
     "output_type": "execute_result"
    },
    {
     "data": {
      "image/png": "[encoded data removed]",
      "text/plain": [
       "<Figure size 640x480 with 1 Axes>"
      ]
     },
     "metadata": {},
     "output_type": "display_data"
    }
   ],
   "source": [
    "# Ploting churn rate % of International plan\n",
    "\n",
    "plt.bar(df_Int_plan_churn_count['International plan'].astype('str'),df_Int_plan_churn_count['churn_true %'])\n",
    "plt.xlabel(\"International plan\")\n",
    "plt.ylabel(\"churn_true %\")\n",
    "plt.title(\"churn rate % of International plan\")"
   ]
  },
  {
   "cell_type": "markdown",
   "id": "f3119d38",
   "metadata": {},
   "source": [
    "#### If International plan is yes then churn rate is high that is 42.41%"
   ]
  },
  {
   "cell_type": "markdown",
   "id": "3820032c",
   "metadata": {},
   "source": [
    "## Exploring Voice mail plan\tfeature - Bivariate analysis"
   ]
  },
  {
   "cell_type": "code",
   "execution_count": 73,
   "id": "a5fdc29a",
   "metadata": {},
   "outputs": [
    {
     "data": {
      "text/plain": [
       "No     2411\n",
       "Yes     922\n",
       "Name: Voice mail plan, dtype: int64"
      ]
     },
     "execution_count": 73,
     "metadata": {},
     "output_type": "execute_result"
    }
   ],
   "source": [
    "# checking value count of Voice mail plan\n",
    "\n",
    "df['Voice mail plan'].value_counts()"
   ]
  },
  {
   "cell_type": "code",
   "execution_count": 77,
   "id": "7d30c14b",
   "metadata": {},
   "outputs": [
    {
     "data": {
      "text/plain": [
       "Text(0.5, 1.0, 'Pie Chart For Voice mail plan')"
      ]
     },
     "execution_count": 77,
     "metadata": {},
     "output_type": "execute_result"
    },
    {
     "data": {
      "image/png": "[encoded data removed]",
      "text/plain": [
       "<Figure size 500x500 with 1 Axes>"
      ]
     },
     "metadata": {},
     "output_type": "display_data"
    }
   ],
   "source": [
    "# Ploting value counts\n",
    "\n",
    "df['Voice mail plan'].value_counts().plot.pie(explode=[0.05,0.05], autopct='%1.1f%%',startangle=90, figsize=(5,5))\n",
    "plt.title('Pie Chart For Voice mail plan')"
   ]
  },
  {
   "cell_type": "markdown",
   "id": "ce45408d",
   "metadata": {},
   "source": [
    "#### Only 27.7% customer use Voice mail plan"
   ]
  },
  {
   "cell_type": "code",
   "execution_count": 87,
   "id": "913e0b1c",
   "metadata": {},
   "outputs": [
    {
     "data": {
      "text/html": [
       "<div>\n",
       "<style scoped>\n",
       "    .dataframe tbody tr th:only-of-type {\n",
       "        vertical-align: middle;\n",
       "    }\n",
       "\n",
       "    .dataframe tbody tr th {\n",
       "        vertical-align: top;\n",
       "    }\n",
       "\n",
       "    .dataframe thead th {\n",
       "        text-align: right;\n",
       "    }\n",
       "</style>\n",
       "<table border=\"1\" class=\"dataframe\">\n",
       "  <thead>\n",
       "    <tr style=\"text-align: right;\">\n",
       "      <th></th>\n",
       "      <th>Voice mail plan</th>\n",
       "      <th>churn_true</th>\n",
       "      <th>chrun_false</th>\n",
       "      <th>churn_true %</th>\n",
       "      <th>churn_false %</th>\n",
       "    </tr>\n",
       "  </thead>\n",
       "  <tbody>\n",
       "    <tr>\n",
       "      <th>0</th>\n",
       "      <td>Yes</td>\n",
       "      <td>80</td>\n",
       "      <td>842</td>\n",
       "      <td>8.68</td>\n",
       "      <td>91.32</td>\n",
       "    </tr>\n",
       "    <tr>\n",
       "      <th>1</th>\n",
       "      <td>No</td>\n",
       "      <td>403</td>\n",
       "      <td>2008</td>\n",
       "      <td>16.72</td>\n",
       "      <td>83.28</td>\n",
       "    </tr>\n",
       "  </tbody>\n",
       "</table>\n",
       "</div>"
      ],
      "text/plain": [
       "  Voice mail plan  churn_true  chrun_false  churn_true %  churn_false %\n",
       "0             Yes          80          842          8.68          91.32\n",
       "1              No         403         2008         16.72          83.28"
      ]
     },
     "execution_count": 87,
     "metadata": {},
     "output_type": "execute_result"
    }
   ],
   "source": [
    "# creating df Voice mail plan churn count%\n",
    "\n",
    "voice_plan=df['Voice mail plan'].unique()\n",
    "churn_true=[df[(df['Voice mail plan']==plan)]['Churn'].value_counts()[1] for plan in voice_plan]\n",
    "chrun_false=[df[(df['Voice mail plan']==plan)]['Churn'].value_counts()[0] for plan in voice_plan]\n",
    "\n",
    "df_voice_plan_churn_count=pd.DataFrame({'Voice mail plan' : Int_plan,\n",
    "                                       'churn_true'  : churn_true,\n",
    "                                       'chrun_false' : chrun_false})\n",
    "\n",
    "df_voice_plan_churn_count['churn_true %']= round(((df_voice_plan_churn_count['churn_true'])/\n",
    "                                                 ((df_voice_plan_churn_count['churn_true'])+ (df_voice_plan_churn_count['chrun_false'])))*100,2)\n",
    "df_voice_plan_churn_count['churn_false %']= round(((df_voice_plan_churn_count['chrun_false'])/\n",
    "                                                  ((df_voice_plan_churn_count['churn_true'])+ (df_voice_plan_churn_count['chrun_false'])))*100,2)\n",
    "df_voice_plan_churn_count"
   ]
  },
  {
   "cell_type": "code",
   "execution_count": 89,
   "id": "30ed760f",
   "metadata": {},
   "outputs": [
    {
     "data": {
      "text/plain": [
       "Text(0.5, 1.0, 'churn rate % of International plan')"
      ]
     },
     "execution_count": 89,
     "metadata": {},
     "output_type": "execute_result"
    },
    {
     "data": {
      "image/png": "[encoded data removed]",
      "text/plain": [
       "<Figure size 640x480 with 1 Axes>"
      ]
     },
     "metadata": {},
     "output_type": "display_data"
    }
   ],
   "source": [
    "# Ploting churn rate % of Voice mail plan\n",
    "\n",
    "plt.bar(df_voice_plan_churn_count['Voice mail plan'],df_voice_plan_churn_count['churn_true %'])\n",
    "plt.xlabel(\"Voice mail plan\")\n",
    "plt.ylabel(\"churn_true %\")\n",
    "plt.title(\"churn rate % of International plan\")"
   ]
  },
  {
   "cell_type": "markdown",
   "id": "1bae7c75",
   "metadata": {},
   "source": [
    "#### If voice plan not activate then churn rate is 16.72% "
   ]
  },
  {
   "cell_type": "markdown",
   "id": "ff17dc70",
   "metadata": {},
   "source": [
    "## Exploring Number vmail messages\tfeature - Bivariate analysis"
   ]
  },
  {
   "cell_type": "code",
   "execution_count": null,
   "id": "f639aebe",
   "metadata": {},
   "outputs": [],
   "source": []
  }
 ],
 "metadata": {
  "kernelspec": {
   "display_name": "Python 3 (ipykernel)",
   "language": "python",
   "name": "python3"
  },
  "language_info": {
   "codemirror_mode": {
    "name": "ipython",
    "version": 3
   },
   "file_extension": ".py",
   "mimetype": "text/x-python",
   "name": "python",
   "nbconvert_exporter": "python",
   "pygments_lexer": "ipython3",
   "version": "3.9.15"
  }
 },
 "nbformat": 4,
 "nbformat_minor": 5
}
