{
 "cells": [
  {
   "cell_type": "markdown",
   "id": "4401de6e",
   "metadata": {},
   "source": [
    "# Problem Statement\n",
    "\n",
    "### Business Problem Overview\n",
    "\n",
    "To expand business on the basis of revenue-generating clients, telco businesses must both draw in new ones and prevent contract terminations (=churn). When it comes to contract termination, clients may do so for a variety of reasons, including better price offers more enticing packages, negative service interactions, or changes in their circumstances.\n",
    "\n",
    "Customers in the telecom sector have access to a variety of service providers and can actively switch from one operator to another. The telecoms business has an average annual churn rate of 15 to 25 percent in this fiercely competitive market. Customer retention has now surpassed customer acquisition in importance due to the fact that it is 5–10 times more expensive to gain new customers than to keep existing ones.\n",
    "\n",
    "Churn analytics offers useful tools for estimating client churn and defining its fundamental causes of it. The percentage of consumers that cancel a product or service within a specified time frame is the most common way to display the churn indicator (mostly months).\n",
    "\n",
    "\n",
    "### Business Objective\n",
    "\n",
    "In order to minimize the customer churn rate, I will perform exploratory data analysis on customer-level data to identify the key signs of why customers are leaving the business."
   ]
  },
  {
   "cell_type": "code",
   "execution_count": 3,
   "id": "bc9fc71c",
   "metadata": {},
   "outputs": [],
   "source": [
    "# Impot Libraries\n",
    "\n",
    "import pandas as pd \n",
    "import numpy as np\n",
    "import matplotlib.pyplot as plt \n",
    "import seaborn as sns\n",
    "\n",
    "import warnings\n",
    "warnings.filterwarnings('ignore')"
   ]
  },
  {
   "cell_type": "code",
   "execution_count": 4,
   "id": "3c1e6353",
   "metadata": {},
   "outputs": [],
   "source": [
    "# Importing Dataset \n",
    "\n",
    "data = pd.read_csv('Telecom_Churn.csv')"
   ]
  },
  {
   "cell_type": "code",
   "execution_count": 5,
   "id": "35f76183",
   "metadata": {},
   "outputs": [
    {
     "data": {
      "text/html": [
       "<div>\n",
       "<style scoped>\n",
       "    .dataframe tbody tr th:only-of-type {\n",
       "        vertical-align: middle;\n",
       "    }\n",
       "\n",
       "    .dataframe tbody tr th {\n",
       "        vertical-align: top;\n",
       "    }\n",
       "\n",
       "    .dataframe thead th {\n",
       "        text-align: right;\n",
       "    }\n",
       "</style>\n",
       "<table border=\"1\" class=\"dataframe\">\n",
       "  <thead>\n",
       "    <tr style=\"text-align: right;\">\n",
       "      <th></th>\n",
       "      <th>State</th>\n",
       "      <th>Account length</th>\n",
       "      <th>Area code</th>\n",
       "      <th>International plan</th>\n",
       "      <th>Voice mail plan</th>\n",
       "      <th>Number vmail messages</th>\n",
       "      <th>Total day minutes</th>\n",
       "      <th>Total day calls</th>\n",
       "      <th>Total day charge</th>\n",
       "      <th>Total eve minutes</th>\n",
       "      <th>Total eve calls</th>\n",
       "      <th>Total eve charge</th>\n",
       "      <th>Total night minutes</th>\n",
       "      <th>Total night calls</th>\n",
       "      <th>Total night charge</th>\n",
       "      <th>Total intl minutes</th>\n",
       "      <th>Total intl calls</th>\n",
       "      <th>Total intl charge</th>\n",
       "      <th>Customer service calls</th>\n",
       "      <th>Churn</th>\n",
       "    </tr>\n",
       "  </thead>\n",
       "  <tbody>\n",
       "    <tr>\n",
       "      <th>0</th>\n",
       "      <td>KS</td>\n",
       "      <td>128</td>\n",
       "      <td>415</td>\n",
       "      <td>No</td>\n",
       "      <td>Yes</td>\n",
       "      <td>25</td>\n",
       "      <td>265.1</td>\n",
       "      <td>110</td>\n",
       "      <td>45.07</td>\n",
       "      <td>197.4</td>\n",
       "      <td>99</td>\n",
       "      <td>16.78</td>\n",
       "      <td>244.7</td>\n",
       "      <td>91</td>\n",
       "      <td>11.01</td>\n",
       "      <td>10.0</td>\n",
       "      <td>3</td>\n",
       "      <td>2.70</td>\n",
       "      <td>1</td>\n",
       "      <td>False</td>\n",
       "    </tr>\n",
       "    <tr>\n",
       "      <th>1</th>\n",
       "      <td>OH</td>\n",
       "      <td>107</td>\n",
       "      <td>415</td>\n",
       "      <td>No</td>\n",
       "      <td>Yes</td>\n",
       "      <td>26</td>\n",
       "      <td>161.6</td>\n",
       "      <td>123</td>\n",
       "      <td>27.47</td>\n",
       "      <td>195.5</td>\n",
       "      <td>103</td>\n",
       "      <td>16.62</td>\n",
       "      <td>254.4</td>\n",
       "      <td>103</td>\n",
       "      <td>11.45</td>\n",
       "      <td>13.7</td>\n",
       "      <td>3</td>\n",
       "      <td>3.70</td>\n",
       "      <td>1</td>\n",
       "      <td>False</td>\n",
       "    </tr>\n",
       "    <tr>\n",
       "      <th>2</th>\n",
       "      <td>NJ</td>\n",
       "      <td>137</td>\n",
       "      <td>415</td>\n",
       "      <td>No</td>\n",
       "      <td>No</td>\n",
       "      <td>0</td>\n",
       "      <td>243.4</td>\n",
       "      <td>114</td>\n",
       "      <td>41.38</td>\n",
       "      <td>121.2</td>\n",
       "      <td>110</td>\n",
       "      <td>10.30</td>\n",
       "      <td>162.6</td>\n",
       "      <td>104</td>\n",
       "      <td>7.32</td>\n",
       "      <td>12.2</td>\n",
       "      <td>5</td>\n",
       "      <td>3.29</td>\n",
       "      <td>0</td>\n",
       "      <td>False</td>\n",
       "    </tr>\n",
       "    <tr>\n",
       "      <th>3</th>\n",
       "      <td>OH</td>\n",
       "      <td>84</td>\n",
       "      <td>408</td>\n",
       "      <td>Yes</td>\n",
       "      <td>No</td>\n",
       "      <td>0</td>\n",
       "      <td>299.4</td>\n",
       "      <td>71</td>\n",
       "      <td>50.90</td>\n",
       "      <td>61.9</td>\n",
       "      <td>88</td>\n",
       "      <td>5.26</td>\n",
       "      <td>196.9</td>\n",
       "      <td>89</td>\n",
       "      <td>8.86</td>\n",
       "      <td>6.6</td>\n",
       "      <td>7</td>\n",
       "      <td>1.78</td>\n",
       "      <td>2</td>\n",
       "      <td>False</td>\n",
       "    </tr>\n",
       "    <tr>\n",
       "      <th>4</th>\n",
       "      <td>OK</td>\n",
       "      <td>75</td>\n",
       "      <td>415</td>\n",
       "      <td>Yes</td>\n",
       "      <td>No</td>\n",
       "      <td>0</td>\n",
       "      <td>166.7</td>\n",
       "      <td>113</td>\n",
       "      <td>28.34</td>\n",
       "      <td>148.3</td>\n",
       "      <td>122</td>\n",
       "      <td>12.61</td>\n",
       "      <td>186.9</td>\n",
       "      <td>121</td>\n",
       "      <td>8.41</td>\n",
       "      <td>10.1</td>\n",
       "      <td>3</td>\n",
       "      <td>2.73</td>\n",
       "      <td>3</td>\n",
       "      <td>False</td>\n",
       "    </tr>\n",
       "  </tbody>\n",
       "</table>\n",
       "</div>"
      ],
      "text/plain": [
       "  State  Account length  Area code International plan Voice mail plan  \\\n",
       "0    KS             128        415                 No             Yes   \n",
       "1    OH             107        415                 No             Yes   \n",
       "2    NJ             137        415                 No              No   \n",
       "3    OH              84        408                Yes              No   \n",
       "4    OK              75        415                Yes              No   \n",
       "\n",
       "   Number vmail messages  Total day minutes  Total day calls  \\\n",
       "0                     25              265.1              110   \n",
       "1                     26              161.6              123   \n",
       "2                      0              243.4              114   \n",
       "3                      0              299.4               71   \n",
       "4                      0              166.7              113   \n",
       "\n",
       "   Total day charge  Total eve minutes  Total eve calls  Total eve charge  \\\n",
       "0             45.07              197.4               99             16.78   \n",
       "1             27.47              195.5              103             16.62   \n",
       "2             41.38              121.2              110             10.30   \n",
       "3             50.90               61.9               88              5.26   \n",
       "4             28.34              148.3              122             12.61   \n",
       "\n",
       "   Total night minutes  Total night calls  Total night charge  \\\n",
       "0                244.7                 91               11.01   \n",
       "1                254.4                103               11.45   \n",
       "2                162.6                104                7.32   \n",
       "3                196.9                 89                8.86   \n",
       "4                186.9                121                8.41   \n",
       "\n",
       "   Total intl minutes  Total intl calls  Total intl charge  \\\n",
       "0                10.0                 3               2.70   \n",
       "1                13.7                 3               3.70   \n",
       "2                12.2                 5               3.29   \n",
       "3                 6.6                 7               1.78   \n",
       "4                10.1                 3               2.73   \n",
       "\n",
       "   Customer service calls  Churn  \n",
       "0                       1  False  \n",
       "1                       1  False  \n",
       "2                       0  False  \n",
       "3                       2  False  \n",
       "4                       3  False  "
      ]
     },
     "execution_count": 5,
     "metadata": {},
     "output_type": "execute_result"
    }
   ],
   "source": [
    "# Viewing data's first 5 row\n",
    "\n",
    "data.head()"
   ]
  },
  {
   "cell_type": "code",
   "execution_count": 6,
   "id": "c85e6c8f",
   "metadata": {},
   "outputs": [
    {
     "data": {
      "text/plain": [
       "(3333, 20)"
      ]
     },
     "execution_count": 6,
     "metadata": {},
     "output_type": "execute_result"
    }
   ],
   "source": [
    "# Chicking shape of data\n",
    "\n",
    "data.shape"
   ]
  },
  {
   "cell_type": "code",
   "execution_count": 9,
   "id": "44958320",
   "metadata": {},
   "outputs": [
    {
     "data": {
      "text/plain": [
       "State                      object\n",
       "Account length              int64\n",
       "Area code                   int64\n",
       "International plan         object\n",
       "Voice mail plan            object\n",
       "Number vmail messages       int64\n",
       "Total day minutes         float64\n",
       "Total day calls             int64\n",
       "Total day charge          float64\n",
       "Total eve minutes         float64\n",
       "Total eve calls             int64\n",
       "Total eve charge          float64\n",
       "Total night minutes       float64\n",
       "Total night calls           int64\n",
       "Total night charge        float64\n",
       "Total intl minutes        float64\n",
       "Total intl calls            int64\n",
       "Total intl charge         float64\n",
       "Customer service calls      int64\n",
       "Churn                        bool\n",
       "dtype: object"
      ]
     },
     "execution_count": 9,
     "metadata": {},
     "output_type": "execute_result"
    }
   ],
   "source": [
    "# Checking data types\n",
    "\n",
    "data.dtypes"
   ]
  },
  {
   "cell_type": "code",
   "execution_count": 10,
   "id": "73aa527b",
   "metadata": {},
   "outputs": [
    {
     "data": {
      "text/plain": [
       "State                     0\n",
       "Account length            0\n",
       "Area code                 0\n",
       "International plan        0\n",
       "Voice mail plan           0\n",
       "Number vmail messages     0\n",
       "Total day minutes         0\n",
       "Total day calls           0\n",
       "Total day charge          0\n",
       "Total eve minutes         0\n",
       "Total eve calls           0\n",
       "Total eve charge          0\n",
       "Total night minutes       0\n",
       "Total night calls         0\n",
       "Total night charge        0\n",
       "Total intl minutes        0\n",
       "Total intl calls          0\n",
       "Total intl charge         0\n",
       "Customer service calls    0\n",
       "Churn                     0\n",
       "dtype: int64"
      ]
     },
     "execution_count": 10,
     "metadata": {},
     "output_type": "execute_result"
    }
   ],
   "source": [
    "# Ckechking null or missing values\n",
    "\n",
    "data.isnull().sum()"
   ]
  },
  {
   "cell_type": "markdown",
   "id": "f1a2fab5",
   "metadata": {},
   "source": [
    "#### In our data there no null or missing values"
   ]
  },
  {
   "cell_type": "code",
   "execution_count": 15,
   "id": "0b47080a",
   "metadata": {},
   "outputs": [
    {
     "data": {
      "text/plain": [
       "State                       51\n",
       "Account length             212\n",
       "Area code                    3\n",
       "International plan           2\n",
       "Voice mail plan              2\n",
       "Number vmail messages       46\n",
       "Total day minutes         1667\n",
       "Total day calls            119\n",
       "Total day charge          1667\n",
       "Total eve minutes         1611\n",
       "Total eve calls            123\n",
       "Total eve charge          1440\n",
       "Total night minutes       1591\n",
       "Total night calls          120\n",
       "Total night charge         933\n",
       "Total intl minutes         162\n",
       "Total intl calls            21\n",
       "Total intl charge          162\n",
       "Customer service calls      10\n",
       "Churn                        2\n",
       "dtype: int64"
      ]
     },
     "execution_count": 15,
     "metadata": {},
     "output_type": "execute_result"
    }
   ],
   "source": [
    "# Checking unique values in each feature\n",
    "\n",
    "data.nunique()"
   ]
  },
  {
   "cell_type": "code",
   "execution_count": 11,
   "id": "f9ee3c54",
   "metadata": {},
   "outputs": [
    {
     "data": {
      "text/plain": [
       "False    2850\n",
       "True      483\n",
       "Name: Churn, dtype: int64"
      ]
     },
     "execution_count": 11,
     "metadata": {},
     "output_type": "execute_result"
    }
   ],
   "source": [
    "# Exploring Target Labels\n",
    "\n",
    "data['Churn'].value_counts()"
   ]
  },
  {
   "cell_type": "markdown",
   "id": "76da11da",
   "metadata": {},
   "source": [
    "#### Our data is imblance\n",
    "Any data with unequal class distribution is technically imblance"
   ]
  },
  {
   "cell_type": "code",
   "execution_count": 12,
   "id": "6f052edb",
   "metadata": {},
   "outputs": [
    {
     "name": "stdout",
     "output_type": "stream",
     "text": [
      "Continuous variables are  ['State', 'Account length', 'Number vmail messages', 'Total day minutes', 'Total day calls', 'Total day charge', 'Total eve minutes', 'Total eve calls', 'Total eve charge', 'Total night minutes', 'Total night calls', 'Total night charge', 'Total intl minutes', 'Total intl calls', 'Total intl charge', 'Customer service calls']\n",
      "\n",
      "-----------------------------------\n",
      "\n",
      "Discrete variables are  ['Area code', 'International plan', 'Voice mail plan', 'Churn']\n"
     ]
    }
   ],
   "source": [
    "# Getting Discrete and Continuous variables into two different list.\n",
    "\n",
    "cont=[]\n",
    "disc=[]\n",
    "\n",
    "for col in data.columns:\n",
    "    if data[col].nunique()>5:\n",
    "        cont.append(col)\n",
    "        \n",
    "    else:\n",
    "        disc.append(col)\n",
    "        \n",
    "print ('Continuous variables are ',cont)\n",
    "print()\n",
    "print('-----------------------------------')\n",
    "print()\n",
    "print ('Discrete variables are ' ,disc)"
   ]
  },
  {
   "cell_type": "code",
   "execution_count": 13,
   "id": "f776a344",
   "metadata": {},
   "outputs": [
    {
     "name": "stdout",
     "output_type": "stream",
     "text": [
      "415    1655\n",
      "510     840\n",
      "408     838\n",
      "Name: Area code, dtype: int64\n",
      "------------------------------------------\n",
      "No     3010\n",
      "Yes     323\n",
      "Name: International plan, dtype: int64\n",
      "------------------------------------------\n",
      "No     2411\n",
      "Yes     922\n",
      "Name: Voice mail plan, dtype: int64\n",
      "------------------------------------------\n",
      "False    2850\n",
      "True      483\n",
      "Name: Churn, dtype: int64\n",
      "------------------------------------------\n"
     ]
    }
   ],
   "source": [
    "for col in disc:\n",
    "  print(data[col].value_counts())\n",
    "  print('------------------------------------------')"
   ]
  },
  {
   "cell_type": "code",
   "execution_count": 16,
   "id": "d137dff8",
   "metadata": {},
   "outputs": [
    {
     "name": "stdout",
     "output_type": "stream",
     "text": [
      "415    1655\n",
      "510     840\n",
      "408     838\n",
      "Name: Area code, dtype: int64\n",
      "------------------------------------------\n",
      "No     3010\n",
      "Yes     323\n",
      "Name: International plan, dtype: int64\n",
      "------------------------------------------\n",
      "No     2411\n",
      "Yes     922\n",
      "Name: Voice mail plan, dtype: int64\n",
      "------------------------------------------\n",
      "False    2850\n",
      "True      483\n",
      "Name: Churn, dtype: int64\n",
      "------------------------------------------\n"
     ]
    }
   ],
   "source": [
    "for col in disc:\n",
    "  print(data[col].value_counts())\n",
    "  print('------------------------------------------')"
   ]
  },
  {
   "cell_type": "code",
   "execution_count": null,
   "id": "7a3828ae",
   "metadata": {},
   "outputs": [],
   "source": []
  }
 ],
 "metadata": {
  "kernelspec": {
   "display_name": "Python 3 (ipykernel)",
   "language": "python",
   "name": "python3"
  },
  "language_info": {
   "codemirror_mode": {
    "name": "ipython",
    "version": 3
   },
   "file_extension": ".py",
   "mimetype": "text/x-python",
   "name": "python",
   "nbconvert_exporter": "python",
   "pygments_lexer": "ipython3",
   "version": "3.9.15"
  }
 },
 "nbformat": 4,
 "nbformat_minor": 5
}
